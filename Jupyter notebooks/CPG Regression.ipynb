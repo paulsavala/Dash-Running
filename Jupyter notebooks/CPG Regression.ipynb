{
 "cells": [
  {
   "cell_type": "markdown",
   "metadata": {},
   "source": [
    "The purpose of this notebook is to go through the computations to estimate Critical Pace at Gradient (CPG). There are several models for cycling to compute this, however we will (at least initially) use the simplest model. In particular, of $P(t)$ is maximum pace which can be sustained for $t$ seconds, $CP$ is critical pace, and $W'$ is the \"anaerobic work capacity\", then $P(t) = CP + W'/t$. Thus $t\\cdot P(t) = t\\cdot CP + W'$, and thus $CP$ is the slope of the line $t\\cdot P(t)$, and $W'$ is the intercept. So this notebook will essentially be setting up this equation, and then applying linear regression to it."
   ]
  },
  {
   "cell_type": "code",
   "execution_count": 1,
   "metadata": {},
   "outputs": [],
   "source": [
    "import pandas as pd\n",
    "import numpy as np\n",
    "import os\n",
    "from sklearn.linear_model import LinearRegression"
   ]
  },
  {
   "cell_type": "markdown",
   "metadata": {},
   "source": [
    "First we assume that the runs have been converted to csv. We look at the csv folder and read them in, clean up the gradient, and create the gradient_100 column."
   ]
  },
  {
   "cell_type": "code",
   "execution_count": 2,
   "metadata": {},
   "outputs": [],
   "source": [
    "def runs_to_df(INDIR, clean_gradient=True):\n",
    "    ''' Returns a list of dataframes for each run. These dataframes can optionally have gradient\n",
    "    spikes removed by leaving clean_gradient to True.'''\n",
    "    files = os.listdir(INDIR)\n",
    "    df_list = []\n",
    "    for file in files:\n",
    "        if file.endswith('.csv'):\n",
    "            df_list.append(pd.read_csv(INDIR + file))\n",
    "            \n",
    "    for df in df_list:\n",
    "        df['gradient'] = clean_gradient_spikes(df['gradient'])\n",
    "        df['gradient_100'] = 100*df['gradient']\n",
    "        \n",
    "    return df_list"
   ]
  },
  {
   "cell_type": "markdown",
   "metadata": {},
   "source": [
    "Next we compute the maximum speed at a time $t$. In fact, this function returns a vector with the maximum speed achieved for time interval $t$ at all gradients at which such an interval occurs. So for example, if $t=60$ seconds, then it looks for all 60 second time intervals, finds the average gradient of the interval, and computes the speed. Further computations on this vector are done in the function compute_CPG_matrix."
   ]
  },
  {
   "cell_type": "code",
   "execution_count": 3,
   "metadata": {},
   "outputs": [],
   "source": [
    "def better_max_speed_t(t, df):\n",
    "    rolling_df = df[['inst_speed_meters_sec', 'gradient_100']].rolling(window=t).mean().fillna(0)\n",
    "    rolling_df['rounded_gradient_100'] = rolling_df['gradient_100'].apply(np.round)\n",
    "    rolling_groupby = rolling_df.groupby('rounded_gradient_100')\n",
    "    \n",
    "    max_speed = {int(name): max(group['inst_speed_meters_sec'].values) for name,group in rolling_groupby}\n",
    "    return max_speed"
   ]
  },
  {
   "cell_type": "markdown",
   "metadata": {},
   "source": [
    "This is a helper function which removes gradients over 40%"
   ]
  },
  {
   "cell_type": "code",
   "execution_count": 4,
   "metadata": {},
   "outputs": [],
   "source": [
    "def clean_gradient_spikes(grad_series, replacement_grad='median', max_grad=0.4):\n",
    "    bad_index = grad_series.loc[np.abs(grad_series) > max_grad].index\n",
    "    grad_series.fillna(0)\n",
    "    if len(bad_index) == 0:\n",
    "        return grad_series\n",
    "    elif replacement_grad == 'median':\n",
    "        grad_series.loc[bad_index] = np.median(grad_series.values)\n",
    "    elif replacement_grad == 'mean':\n",
    "        grad_series.loc[bad_index] = np.mean(grad_series.values)\n",
    "    elif replacement_grad == 'zero':\n",
    "        grad_series.loc[bad_index] = 0\n",
    "    return grad_series"
   ]
  },
  {
   "cell_type": "markdown",
   "metadata": {},
   "source": [
    "Next we iterate through all time intervals the user asks for (later, in the variable $t$), and create a matrix (from an intermediate data frame) from this. This is the \"max speed matrix\" for that run, because the $(t,g)$ entry holds the maximum speed achieved in a time interval of $t$ with average gradient $g$. Some intermediate work is done to \"fill in\" those gradients which don't appear. For example, perhaps a gradient of 10% was never run for 60 seconds, but a 0% gradient was run for that time. Then there is an entry for $(60,0)$, but not for $(60,10)$. So we fill in zeros in those missing entries."
   ]
  },
  {
   "cell_type": "code",
   "execution_count": 5,
   "metadata": {},
   "outputs": [],
   "source": [
    "def compute_CPG_matrix(df_list, time_interval, gradient_interval, INDIR):\n",
    "    df_list = runs_to_df(INDIR)\n",
    "    \n",
    "    max_speed_list_of_df = [pd.DataFrame([better_max_speed_t(t_val, df) for t_val in t]).fillna(0) for df in df_list]\n",
    "    max_speed_list_of_df_updated = []\n",
    "\n",
    "    for df in max_speed_list_of_df:\n",
    "        df_data = df\n",
    "        df = pd.DataFrame(0, index=t, columns=g)\n",
    "        df.update(df_data)\n",
    "        max_speed_list_of_df_updated.append(df)\n",
    "        \n",
    "    max_speed_list = [df[g].iloc[t].as_matrix() for df in max_speed_list_of_df_updated]\n",
    "    CPG_matrix = np.maximum.reduce(max_speed_list)\n",
    "    return CPG_matrix"
   ]
  },
  {
   "cell_type": "markdown",
   "metadata": {},
   "source": [
    "Another helper function which, given a max speed matrix, desired gradient, and range over all gradients, returns the 1-dimensional vector of max speeds at that gradient over all times recorded. This is used to create the 1-dimensional CPG \"slice\" chart."
   ]
  },
  {
   "cell_type": "code",
   "execution_count": 6,
   "metadata": {},
   "outputs": [],
   "source": [
    "def gradient_speed_array(gradient, CPG_matrix, gradient_range):\n",
    "    '''Return a numpy array showing the maximum speed achieved at a given gradient'''\n",
    "    gradient_index = np.where(gradient_range == gradient)\n",
    "    gradient_speed_array = CPG_matrix[:,gradient_index[0][0]]\n",
    "    return gradient_speed_array"
   ]
  },
  {
   "cell_type": "markdown",
   "metadata": {},
   "source": [
    "Read in data, specify time and gradient intervals, and do computations."
   ]
  },
  {
   "cell_type": "code",
   "execution_count": 34,
   "metadata": {
    "scrolled": true
   },
   "outputs": [
    {
     "name": "stderr",
     "output_type": "stream",
     "text": [
      "/Users/paulsavala/anaconda/lib/python3.5/site-packages/pandas/core/indexing.py:179: SettingWithCopyWarning: \n",
      "A value is trying to be set on a copy of a slice from a DataFrame\n",
      "\n",
      "See the caveats in the documentation: http://pandas.pydata.org/pandas-docs/stable/indexing.html#indexing-view-versus-copy\n",
      "  self._setitem_with_indexer(indexer, value)\n"
     ]
    }
   ],
   "source": [
    "INDIR = r'data/csv/'\n",
    "minutes = 10\n",
    "t = np.arange(60*minutes+1)\n",
    "g = np.arange(-10, 11)\n",
    "\n",
    "df_list = runs_to_df(INDIR)\n",
    "CPG_matrix = compute_CPG_matrix(df_list, t, g, INDIR)"
   ]
  },
  {
   "cell_type": "markdown",
   "metadata": {},
   "source": [
    "Using the ideas at the top of this notebook, we use linear regression to compute the CP and W' for each gradient. Note that this is done regardless of the amount of time a gradient was actually run at. So for instance, if we ran a 0% gradient for 5 minutes, it probably makes sense to compute CP and W' at a 0% gradient. However, if the longest we ever ran a 20% gradient for was 5 seconds, it probably *doesn't* make sense to compute these things. Yet, this function still does that. This needs to be dealt with at some point, perhaps by specifying a minimum time (a brief review of the research says that runners switch from anaerobic to aerobic around the 50 second mark, so one minute might be a good cutoff)."
   ]
  },
  {
   "cell_type": "code",
   "execution_count": 9,
   "metadata": {},
   "outputs": [],
   "source": [
    "def compute_CP_Wprime(CPG_matrix, gradient, gradient_range, time_range):\n",
    "    ''' This uses linear regression on the equation t*P(t) = t*CP + Wprime to compute CP and Wprime.'''\n",
    "    CPG_fixed_gradient = gradient_speed_array(gradient, CPG_matrix, gradient_range)\n",
    "    indices_with_nonzero_pace = np.nonzero(CPG_fixed_gradient)\n",
    "    CPG_fixed_gradient_nonzero = CPG_fixed_gradient[indices_with_nonzero_pace]\n",
    "    time_range_nonzero = time_range[indices_with_nonzero_pace]\n",
    "    \n",
    "    lr = LinearRegression()\n",
    "    \n",
    "    pace_times_time_gradient_fixed = np.array(CPG_fixed_gradient_nonzero*time_range_nonzero)\n",
    "    input_length = len(time_range_nonzero)\n",
    "    pace_times_time_gradient_fixed = pace_times_time_gradient_fixed.reshape((input_length,1))\n",
    "    time_range = time_range_nonzero.reshape((input_length, 1)) # This reshaping is needed by sklearn\n",
    "\n",
    "    lr.fit(time_range, pace_times_time_gradient_fixed)\n",
    "    return (lr.coef_[0][0], lr.intercept_[0])"
   ]
  },
  {
   "cell_type": "markdown",
   "metadata": {},
   "source": [
    "We use Bokeh for plotting, due to its maturity and simplicity."
   ]
  },
  {
   "cell_type": "code",
   "execution_count": 13,
   "metadata": {},
   "outputs": [
    {
     "data": {
      "text/html": [
       "\n",
       "    <div class=\"bk-root\">\n",
       "        <a href=\"http://bokeh.pydata.org\" target=\"_blank\" class=\"bk-logo bk-logo-small bk-logo-notebook\"></a>\n",
       "        <span id=\"e56ef019-58ed-4ccd-a46a-5fb951fa8e92\">Loading BokehJS ...</span>\n",
       "    </div>"
      ]
     },
     "metadata": {},
     "output_type": "display_data"
    },
    {
     "data": {
      "application/javascript": [
       "\n",
       "(function(global) {\n",
       "  function now() {\n",
       "    return new Date();\n",
       "  }\n",
       "\n",
       "  var force = true;\n",
       "\n",
       "  if (typeof (window._bokeh_onload_callbacks) === \"undefined\" || force === true) {\n",
       "    window._bokeh_onload_callbacks = [];\n",
       "    window._bokeh_is_loading = undefined;\n",
       "  }\n",
       "\n",
       "\n",
       "  \n",
       "  if (typeof (window._bokeh_timeout) === \"undefined\" || force === true) {\n",
       "    window._bokeh_timeout = Date.now() + 5000;\n",
       "    window._bokeh_failed_load = false;\n",
       "  }\n",
       "\n",
       "  var NB_LOAD_WARNING = {'data': {'text/html':\n",
       "     \"<div style='background-color: #fdd'>\\n\"+\n",
       "     \"<p>\\n\"+\n",
       "     \"BokehJS does not appear to have successfully loaded. If loading BokehJS from CDN, this \\n\"+\n",
       "     \"may be due to a slow or bad network connection. Possible fixes:\\n\"+\n",
       "     \"</p>\\n\"+\n",
       "     \"<ul>\\n\"+\n",
       "     \"<li>re-rerun `output_notebook()` to attempt to load from CDN again, or</li>\\n\"+\n",
       "     \"<li>use INLINE resources instead, as so:</li>\\n\"+\n",
       "     \"</ul>\\n\"+\n",
       "     \"<code>\\n\"+\n",
       "     \"from bokeh.resources import INLINE\\n\"+\n",
       "     \"output_notebook(resources=INLINE)\\n\"+\n",
       "     \"</code>\\n\"+\n",
       "     \"</div>\"}};\n",
       "\n",
       "  function display_loaded() {\n",
       "    if (window.Bokeh !== undefined) {\n",
       "      var el = document.getElementById(\"e56ef019-58ed-4ccd-a46a-5fb951fa8e92\");\n",
       "      el.textContent = \"BokehJS \" + Bokeh.version + \" successfully loaded.\";\n",
       "    } else if (Date.now() < window._bokeh_timeout) {\n",
       "      setTimeout(display_loaded, 100)\n",
       "    }\n",
       "  }\n",
       "\n",
       "  function run_callbacks() {\n",
       "    window._bokeh_onload_callbacks.forEach(function(callback) { callback() });\n",
       "    delete window._bokeh_onload_callbacks\n",
       "    console.info(\"Bokeh: all callbacks have finished\");\n",
       "  }\n",
       "\n",
       "  function load_libs(js_urls, callback) {\n",
       "    window._bokeh_onload_callbacks.push(callback);\n",
       "    if (window._bokeh_is_loading > 0) {\n",
       "      console.log(\"Bokeh: BokehJS is being loaded, scheduling callback at\", now());\n",
       "      return null;\n",
       "    }\n",
       "    if (js_urls == null || js_urls.length === 0) {\n",
       "      run_callbacks();\n",
       "      return null;\n",
       "    }\n",
       "    console.log(\"Bokeh: BokehJS not loaded, scheduling load and callback at\", now());\n",
       "    window._bokeh_is_loading = js_urls.length;\n",
       "    for (var i = 0; i < js_urls.length; i++) {\n",
       "      var url = js_urls[i];\n",
       "      var s = document.createElement('script');\n",
       "      s.src = url;\n",
       "      s.async = false;\n",
       "      s.onreadystatechange = s.onload = function() {\n",
       "        window._bokeh_is_loading--;\n",
       "        if (window._bokeh_is_loading === 0) {\n",
       "          console.log(\"Bokeh: all BokehJS libraries loaded\");\n",
       "          run_callbacks()\n",
       "        }\n",
       "      };\n",
       "      s.onerror = function() {\n",
       "        console.warn(\"failed to load library \" + url);\n",
       "      };\n",
       "      console.log(\"Bokeh: injecting script tag for BokehJS library: \", url);\n",
       "      document.getElementsByTagName(\"head\")[0].appendChild(s);\n",
       "    }\n",
       "  };var element = document.getElementById(\"e56ef019-58ed-4ccd-a46a-5fb951fa8e92\");\n",
       "  if (element == null) {\n",
       "    console.log(\"Bokeh: ERROR: autoload.js configured with elementid 'e56ef019-58ed-4ccd-a46a-5fb951fa8e92' but no matching script tag was found. \")\n",
       "    return false;\n",
       "  }\n",
       "\n",
       "  var js_urls = [\"https://cdn.pydata.org/bokeh/release/bokeh-0.12.5.min.js\", \"https://cdn.pydata.org/bokeh/release/bokeh-widgets-0.12.5.min.js\"];\n",
       "\n",
       "  var inline_js = [\n",
       "    function(Bokeh) {\n",
       "      Bokeh.set_log_level(\"info\");\n",
       "    },\n",
       "    \n",
       "    function(Bokeh) {\n",
       "      \n",
       "    },\n",
       "    \n",
       "    function(Bokeh) {\n",
       "      \n",
       "      document.getElementById(\"e56ef019-58ed-4ccd-a46a-5fb951fa8e92\").textContent = \"BokehJS is loading...\";\n",
       "    },\n",
       "    function(Bokeh) {\n",
       "      console.log(\"Bokeh: injecting CSS: https://cdn.pydata.org/bokeh/release/bokeh-0.12.5.min.css\");\n",
       "      Bokeh.embed.inject_css(\"https://cdn.pydata.org/bokeh/release/bokeh-0.12.5.min.css\");\n",
       "      console.log(\"Bokeh: injecting CSS: https://cdn.pydata.org/bokeh/release/bokeh-widgets-0.12.5.min.css\");\n",
       "      Bokeh.embed.inject_css(\"https://cdn.pydata.org/bokeh/release/bokeh-widgets-0.12.5.min.css\");\n",
       "    }\n",
       "  ];\n",
       "\n",
       "  function run_inline_js() {\n",
       "    \n",
       "    if ((window.Bokeh !== undefined) || (force === true)) {\n",
       "      for (var i = 0; i < inline_js.length; i++) {\n",
       "        inline_js[i](window.Bokeh);\n",
       "      }if (force === true) {\n",
       "        display_loaded();\n",
       "      }} else if (Date.now() < window._bokeh_timeout) {\n",
       "      setTimeout(run_inline_js, 100);\n",
       "    } else if (!window._bokeh_failed_load) {\n",
       "      console.log(\"Bokeh: BokehJS failed to load within specified timeout.\");\n",
       "      window._bokeh_failed_load = true;\n",
       "    } else if (force !== true) {\n",
       "      var cell = $(document.getElementById(\"e56ef019-58ed-4ccd-a46a-5fb951fa8e92\")).parents('.cell').data().cell;\n",
       "      cell.output_area.append_execute_result(NB_LOAD_WARNING)\n",
       "    }\n",
       "\n",
       "  }\n",
       "\n",
       "  if (window._bokeh_is_loading === 0) {\n",
       "    console.log(\"Bokeh: BokehJS loaded, going straight to plotting\");\n",
       "    run_inline_js();\n",
       "  } else {\n",
       "    load_libs(js_urls, function() {\n",
       "      console.log(\"Bokeh: BokehJS plotting callback run at\", now());\n",
       "      run_inline_js();\n",
       "    });\n",
       "  }\n",
       "}(this));"
      ]
     },
     "metadata": {},
     "output_type": "display_data"
    }
   ],
   "source": [
    "from ipywidgets import interact\n",
    "import numpy as np\n",
    "\n",
    "from bokeh.io import push_notebook, show, output_notebook\n",
    "from bokeh.plotting import figure\n",
    "output_notebook()"
   ]
  },
  {
   "cell_type": "code",
   "execution_count": 10,
   "metadata": {},
   "outputs": [],
   "source": [
    "CP_vals = []\n",
    "Wprime_vals = []\n",
    "\n",
    "for gradient in g:\n",
    "    CP, Wprime = compute_CP_Wprime(CPG_matrix, gradient, g, t)\n",
    "    CP_vals.append(CP)\n",
    "    Wprime_vals.append(Wprime)"
   ]
  },
  {
   "cell_type": "code",
   "execution_count": 35,
   "metadata": {},
   "outputs": [],
   "source": [
    "p = figure(title=\"CP chart\", plot_height=300, plot_width=600, y_range=(0,7))\n",
    "r = p.line(t[1:], gradient_speed_array(0, CPG_matrix, g)[1:], color=\"#2222aa\", line_width=3)"
   ]
  },
  {
   "cell_type": "code",
   "execution_count": 36,
   "metadata": {},
   "outputs": [
    {
     "data": {
      "text/html": [
       "\n",
       "\n",
       "    <div class=\"bk-root\">\n",
       "        <div class=\"bk-plotdiv\" id=\"4d6265ec-fe28-4025-9495-d22ad4b5e456\"></div>\n",
       "    </div>\n",
       "<script type=\"text/javascript\">\n",
       "  \n",
       "  (function(global) {\n",
       "    function now() {\n",
       "      return new Date();\n",
       "    }\n",
       "  \n",
       "    var force = false;\n",
       "  \n",
       "    if (typeof (window._bokeh_onload_callbacks) === \"undefined\" || force === true) {\n",
       "      window._bokeh_onload_callbacks = [];\n",
       "      window._bokeh_is_loading = undefined;\n",
       "    }\n",
       "  \n",
       "  \n",
       "    \n",
       "    if (typeof (window._bokeh_timeout) === \"undefined\" || force === true) {\n",
       "      window._bokeh_timeout = Date.now() + 0;\n",
       "      window._bokeh_failed_load = false;\n",
       "    }\n",
       "  \n",
       "    var NB_LOAD_WARNING = {'data': {'text/html':\n",
       "       \"<div style='background-color: #fdd'>\\n\"+\n",
       "       \"<p>\\n\"+\n",
       "       \"BokehJS does not appear to have successfully loaded. If loading BokehJS from CDN, this \\n\"+\n",
       "       \"may be due to a slow or bad network connection. Possible fixes:\\n\"+\n",
       "       \"</p>\\n\"+\n",
       "       \"<ul>\\n\"+\n",
       "       \"<li>re-rerun `output_notebook()` to attempt to load from CDN again, or</li>\\n\"+\n",
       "       \"<li>use INLINE resources instead, as so:</li>\\n\"+\n",
       "       \"</ul>\\n\"+\n",
       "       \"<code>\\n\"+\n",
       "       \"from bokeh.resources import INLINE\\n\"+\n",
       "       \"output_notebook(resources=INLINE)\\n\"+\n",
       "       \"</code>\\n\"+\n",
       "       \"</div>\"}};\n",
       "  \n",
       "    function display_loaded() {\n",
       "      if (window.Bokeh !== undefined) {\n",
       "        var el = document.getElementById(\"4d6265ec-fe28-4025-9495-d22ad4b5e456\");\n",
       "        el.textContent = \"BokehJS \" + Bokeh.version + \" successfully loaded.\";\n",
       "      } else if (Date.now() < window._bokeh_timeout) {\n",
       "        setTimeout(display_loaded, 100)\n",
       "      }\n",
       "    }if ((window.Jupyter !== undefined) && Jupyter.notebook.kernel) {\n",
       "      comm_manager = Jupyter.notebook.kernel.comm_manager\n",
       "      comm_manager.register_target(\"4cd2b1d0-a54c-4161-81be-ece9137b0d08\", function () {});\n",
       "    }\n",
       "  \n",
       "    function run_callbacks() {\n",
       "      window._bokeh_onload_callbacks.forEach(function(callback) { callback() });\n",
       "      delete window._bokeh_onload_callbacks\n",
       "      console.info(\"Bokeh: all callbacks have finished\");\n",
       "    }\n",
       "  \n",
       "    function load_libs(js_urls, callback) {\n",
       "      window._bokeh_onload_callbacks.push(callback);\n",
       "      if (window._bokeh_is_loading > 0) {\n",
       "        console.log(\"Bokeh: BokehJS is being loaded, scheduling callback at\", now());\n",
       "        return null;\n",
       "      }\n",
       "      if (js_urls == null || js_urls.length === 0) {\n",
       "        run_callbacks();\n",
       "        return null;\n",
       "      }\n",
       "      console.log(\"Bokeh: BokehJS not loaded, scheduling load and callback at\", now());\n",
       "      window._bokeh_is_loading = js_urls.length;\n",
       "      for (var i = 0; i < js_urls.length; i++) {\n",
       "        var url = js_urls[i];\n",
       "        var s = document.createElement('script');\n",
       "        s.src = url;\n",
       "        s.async = false;\n",
       "        s.onreadystatechange = s.onload = function() {\n",
       "          window._bokeh_is_loading--;\n",
       "          if (window._bokeh_is_loading === 0) {\n",
       "            console.log(\"Bokeh: all BokehJS libraries loaded\");\n",
       "            run_callbacks()\n",
       "          }\n",
       "        };\n",
       "        s.onerror = function() {\n",
       "          console.warn(\"failed to load library \" + url);\n",
       "        };\n",
       "        console.log(\"Bokeh: injecting script tag for BokehJS library: \", url);\n",
       "        document.getElementsByTagName(\"head\")[0].appendChild(s);\n",
       "      }\n",
       "    };var element = document.getElementById(\"4d6265ec-fe28-4025-9495-d22ad4b5e456\");\n",
       "    if (element == null) {\n",
       "      console.log(\"Bokeh: ERROR: autoload.js configured with elementid '4d6265ec-fe28-4025-9495-d22ad4b5e456' but no matching script tag was found. \")\n",
       "      return false;\n",
       "    }\n",
       "  \n",
       "    var js_urls = [];\n",
       "  \n",
       "    var inline_js = [\n",
       "      function(Bokeh) {\n",
       "        (function() {\n",
       "          var fn = function() {\n",
       "            var docs_json = {\"bbb07089-1f14-4880-97b5-3d12067a67a0\":{\"roots\":{\"references\":[{\"attributes\":{\"below\":[{\"id\":\"bc7bab71-d269-4336-8958-b0f908c8dce7\",\"type\":\"LinearAxis\"}],\"left\":[{\"id\":\"0c6b4728-1869-4280-b8bf-f3816b39f1b8\",\"type\":\"LinearAxis\"}],\"plot_height\":300,\"renderers\":[{\"id\":\"bc7bab71-d269-4336-8958-b0f908c8dce7\",\"type\":\"LinearAxis\"},{\"id\":\"ac315082-3a45-4293-8c78-1e58c7decde9\",\"type\":\"Grid\"},{\"id\":\"0c6b4728-1869-4280-b8bf-f3816b39f1b8\",\"type\":\"LinearAxis\"},{\"id\":\"0a99fd81-0a4d-40ff-98a2-4b6c6ee23689\",\"type\":\"Grid\"},{\"id\":\"fc422b25-b3b2-42f9-8b22-6c7c2f99f54c\",\"type\":\"BoxAnnotation\"},{\"id\":\"6543e406-2ce8-40f2-9ea2-0b65881b0496\",\"type\":\"GlyphRenderer\"}],\"title\":{\"id\":\"989ac222-27f1-4bd8-99fd-88194dbb1ff3\",\"type\":\"Title\"},\"tool_events\":{\"id\":\"6212f588-3d7a-4ad8-be8c-dc0ca1032b13\",\"type\":\"ToolEvents\"},\"toolbar\":{\"id\":\"dcea35f0-1189-49b8-8e55-0b63f391bd6e\",\"type\":\"Toolbar\"},\"x_range\":{\"id\":\"3c49fb61-e7a2-4b87-9a8f-7c8759a66e04\",\"type\":\"DataRange1d\"},\"y_range\":{\"id\":\"9bb7342c-621c-4fca-a712-586d46e0e962\",\"type\":\"Range1d\"}},\"id\":\"65dea32e-931a-41b5-96b4-683d1fc3573e\",\"subtype\":\"Figure\",\"type\":\"Plot\"},{\"attributes\":{\"line_color\":{\"value\":\"#2222aa\"},\"line_width\":{\"value\":3},\"x\":{\"field\":\"x\"},\"y\":{\"field\":\"y\"}},\"id\":\"36f650ee-78d4-4caa-a994-9dad602f74b4\",\"type\":\"Line\"},{\"attributes\":{\"dimension\":1,\"plot\":{\"id\":\"65dea32e-931a-41b5-96b4-683d1fc3573e\",\"subtype\":\"Figure\",\"type\":\"Plot\"},\"ticker\":{\"id\":\"373426cd-162d-4cfa-83e7-473d2eccdd06\",\"type\":\"BasicTicker\"}},\"id\":\"0a99fd81-0a4d-40ff-98a2-4b6c6ee23689\",\"type\":\"Grid\"},{\"attributes\":{\"active_drag\":\"auto\",\"active_scroll\":\"auto\",\"active_tap\":\"auto\",\"tools\":[{\"id\":\"cc805606-81a7-4b8b-ae36-d9f0f66a266a\",\"type\":\"PanTool\"},{\"id\":\"306929e9-453d-4d77-8e7c-ab3661afe08d\",\"type\":\"WheelZoomTool\"},{\"id\":\"1634e234-dfc7-44d6-a164-b43f2db43f9a\",\"type\":\"BoxZoomTool\"},{\"id\":\"bc611752-ae79-4e88-8a71-ca86906aff75\",\"type\":\"SaveTool\"},{\"id\":\"f649a669-6dc2-486b-be01-5c1772b0d457\",\"type\":\"ResetTool\"},{\"id\":\"83915d7c-c020-4cfb-9e11-db43c8c76043\",\"type\":\"HelpTool\"}]},\"id\":\"dcea35f0-1189-49b8-8e55-0b63f391bd6e\",\"type\":\"Toolbar\"},{\"attributes\":{\"plot\":{\"id\":\"65dea32e-931a-41b5-96b4-683d1fc3573e\",\"subtype\":\"Figure\",\"type\":\"Plot\"}},\"id\":\"83915d7c-c020-4cfb-9e11-db43c8c76043\",\"type\":\"HelpTool\"},{\"attributes\":{\"plot\":{\"id\":\"65dea32e-931a-41b5-96b4-683d1fc3573e\",\"subtype\":\"Figure\",\"type\":\"Plot\"},\"ticker\":{\"id\":\"5ee2ac20-63b9-4d94-a32c-6f03d8bf60d8\",\"type\":\"BasicTicker\"}},\"id\":\"ac315082-3a45-4293-8c78-1e58c7decde9\",\"type\":\"Grid\"},{\"attributes\":{\"plot\":{\"id\":\"65dea32e-931a-41b5-96b4-683d1fc3573e\",\"subtype\":\"Figure\",\"type\":\"Plot\"}},\"id\":\"f649a669-6dc2-486b-be01-5c1772b0d457\",\"type\":\"ResetTool\"},{\"attributes\":{\"data_source\":{\"id\":\"85a9f40a-9eca-4ef4-87b5-2b7ac077137e\",\"type\":\"ColumnDataSource\"},\"glyph\":{\"id\":\"36f650ee-78d4-4caa-a994-9dad602f74b4\",\"type\":\"Line\"},\"hover_glyph\":null,\"muted_glyph\":null,\"nonselection_glyph\":{\"id\":\"eebda19b-fd8c-4105-946e-0b0656213b13\",\"type\":\"Line\"},\"selection_glyph\":null},\"id\":\"6543e406-2ce8-40f2-9ea2-0b65881b0496\",\"type\":\"GlyphRenderer\"},{\"attributes\":{\"callback\":null,\"end\":7},\"id\":\"9bb7342c-621c-4fca-a712-586d46e0e962\",\"type\":\"Range1d\"},{\"attributes\":{},\"id\":\"373426cd-162d-4cfa-83e7-473d2eccdd06\",\"type\":\"BasicTicker\"},{\"attributes\":{\"plot\":null,\"text\":\"CP chart\"},\"id\":\"989ac222-27f1-4bd8-99fd-88194dbb1ff3\",\"type\":\"Title\"},{\"attributes\":{},\"id\":\"6212f588-3d7a-4ad8-be8c-dc0ca1032b13\",\"type\":\"ToolEvents\"},{\"attributes\":{\"formatter\":{\"id\":\"564c5fcc-2e48-44b2-bd78-cddff9a5e14d\",\"type\":\"BasicTickFormatter\"},\"plot\":{\"id\":\"65dea32e-931a-41b5-96b4-683d1fc3573e\",\"subtype\":\"Figure\",\"type\":\"Plot\"},\"ticker\":{\"id\":\"373426cd-162d-4cfa-83e7-473d2eccdd06\",\"type\":\"BasicTicker\"}},\"id\":\"0c6b4728-1869-4280-b8bf-f3816b39f1b8\",\"type\":\"LinearAxis\"},{\"attributes\":{},\"id\":\"5ee2ac20-63b9-4d94-a32c-6f03d8bf60d8\",\"type\":\"BasicTicker\"},{\"attributes\":{\"formatter\":{\"id\":\"39fed4e0-b131-4332-853f-c91f8902fba0\",\"type\":\"BasicTickFormatter\"},\"plot\":{\"id\":\"65dea32e-931a-41b5-96b4-683d1fc3573e\",\"subtype\":\"Figure\",\"type\":\"Plot\"},\"ticker\":{\"id\":\"5ee2ac20-63b9-4d94-a32c-6f03d8bf60d8\",\"type\":\"BasicTicker\"}},\"id\":\"bc7bab71-d269-4336-8958-b0f908c8dce7\",\"type\":\"LinearAxis\"},{\"attributes\":{\"bottom_units\":\"screen\",\"fill_alpha\":{\"value\":0.5},\"fill_color\":{\"value\":\"lightgrey\"},\"left_units\":\"screen\",\"level\":\"overlay\",\"line_alpha\":{\"value\":1.0},\"line_color\":{\"value\":\"black\"},\"line_dash\":[4,4],\"line_width\":{\"value\":2},\"plot\":null,\"render_mode\":\"css\",\"right_units\":\"screen\",\"top_units\":\"screen\"},\"id\":\"fc422b25-b3b2-42f9-8b22-6c7c2f99f54c\",\"type\":\"BoxAnnotation\"},{\"attributes\":{\"callback\":null},\"id\":\"3c49fb61-e7a2-4b87-9a8f-7c8759a66e04\",\"type\":\"DataRange1d\"},{\"attributes\":{},\"id\":\"39fed4e0-b131-4332-853f-c91f8902fba0\",\"type\":\"BasicTickFormatter\"},{\"attributes\":{\"plot\":{\"id\":\"65dea32e-931a-41b5-96b4-683d1fc3573e\",\"subtype\":\"Figure\",\"type\":\"Plot\"}},\"id\":\"306929e9-453d-4d77-8e7c-ab3661afe08d\",\"type\":\"WheelZoomTool\"},{\"attributes\":{\"line_alpha\":{\"value\":0.1},\"line_color\":{\"value\":\"#1f77b4\"},\"line_width\":{\"value\":3},\"x\":{\"field\":\"x\"},\"y\":{\"field\":\"y\"}},\"id\":\"eebda19b-fd8c-4105-946e-0b0656213b13\",\"type\":\"Line\"},{\"attributes\":{\"plot\":{\"id\":\"65dea32e-931a-41b5-96b4-683d1fc3573e\",\"subtype\":\"Figure\",\"type\":\"Plot\"}},\"id\":\"bc611752-ae79-4e88-8a71-ca86906aff75\",\"type\":\"SaveTool\"},{\"attributes\":{\"overlay\":{\"id\":\"fc422b25-b3b2-42f9-8b22-6c7c2f99f54c\",\"type\":\"BoxAnnotation\"},\"plot\":{\"id\":\"65dea32e-931a-41b5-96b4-683d1fc3573e\",\"subtype\":\"Figure\",\"type\":\"Plot\"}},\"id\":\"1634e234-dfc7-44d6-a164-b43f2db43f9a\",\"type\":\"BoxZoomTool\"},{\"attributes\":{\"callback\":null,\"column_names\":[\"x\",\"y\"],\"data\":{\"x\":[1,2,3,4,5,6,7,8,9,10,11,12,13,14,15,16,17,18,19,20,21,22,23,24,25,26,27,28,29,30,31,32,33,34,35,36,37,38,39,40,41,42,43,44,45,46,47,48,49,50,51,52,53,54,55,56,57,58,59,60,61,62,63,64,65,66,67,68,69,70,71,72,73,74,75,76,77,78,79,80,81,82,83,84,85,86,87,88,89,90,91,92,93,94,95,96,97,98,99,100,101,102,103,104,105,106,107,108,109,110,111,112,113,114,115,116,117,118,119,120,121,122,123,124,125,126,127,128,129,130,131,132,133,134,135,136,137,138,139,140,141,142,143,144,145,146,147,148,149,150,151,152,153,154,155,156,157,158,159,160,161,162,163,164,165,166,167,168,169,170,171,172,173,174,175,176,177,178,179,180,181,182,183,184,185,186,187,188,189,190,191,192,193,194,195,196,197,198,199,200,201,202,203,204,205,206,207,208,209,210,211,212,213,214,215,216,217,218,219,220,221,222,223,224,225,226,227,228,229,230,231,232,233,234,235,236,237,238,239,240,241,242,243,244,245,246,247,248,249,250,251,252,253,254,255,256,257,258,259,260,261,262,263,264,265,266,267,268,269,270,271,272,273,274,275,276,277,278,279,280,281,282,283,284,285,286,287,288,289,290,291,292,293,294,295,296,297,298,299,300,301,302,303,304,305,306,307,308,309,310,311,312,313,314,315,316,317,318,319,320,321,322,323,324,325,326,327,328,329,330,331,332,333,334,335,336,337,338,339,340,341,342,343,344,345,346,347,348,349,350,351,352,353,354,355,356,357,358,359,360,361,362,363,364,365,366,367,368,369,370,371,372,373,374,375,376,377,378,379,380,381,382,383,384,385,386,387,388,389,390,391,392,393,394,395,396,397,398,399,400,401,402,403,404,405,406,407,408,409,410,411,412,413,414,415,416,417,418,419,420,421,422,423,424,425,426,427,428,429,430,431,432,433,434,435,436,437,438,439,440,441,442,443,444,445,446,447,448,449,450,451,452,453,454,455,456,457,458,459,460,461,462,463,464,465,466,467,468,469,470,471,472,473,474,475,476,477,478,479,480,481,482,483,484,485,486,487,488,489,490,491,492,493,494,495,496,497,498,499,500,501,502,503,504,505,506,507,508,509,510,511,512,513,514,515,516,517,518,519,520,521,522,523,524,525,526,527,528,529,530,531,532,533,534,535,536,537,538,539,540,541,542,543,544,545,546,547,548,549,550,551,552,553,554,555,556,557,558,559,560,561,562,563,564,565,566,567,568,569,570,571,572,573,574,575,576,577,578,579,580,581,582,583,584,585,586,587,588,589,590,591,592,593,594,595,596,597,598,599,600],\"y\":{\"__ndarray__\":\"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\",\"dtype\":\"float64\",\"shape\":[600]}}},\"id\":\"85a9f40a-9eca-4ef4-87b5-2b7ac077137e\",\"type\":\"ColumnDataSource\"},{\"attributes\":{},\"id\":\"564c5fcc-2e48-44b2-bd78-cddff9a5e14d\",\"type\":\"BasicTickFormatter\"},{\"attributes\":{\"plot\":{\"id\":\"65dea32e-931a-41b5-96b4-683d1fc3573e\",\"subtype\":\"Figure\",\"type\":\"Plot\"}},\"id\":\"cc805606-81a7-4b8b-ae36-d9f0f66a266a\",\"type\":\"PanTool\"}],\"root_ids\":[\"65dea32e-931a-41b5-96b4-683d1fc3573e\"]},\"title\":\"Bokeh Application\",\"version\":\"0.12.5\"}};\n",
       "            var render_items = [{\"docid\":\"bbb07089-1f14-4880-97b5-3d12067a67a0\",\"elementid\":\"4d6265ec-fe28-4025-9495-d22ad4b5e456\",\"modelid\":\"65dea32e-931a-41b5-96b4-683d1fc3573e\",\"notebook_comms_target\":\"4cd2b1d0-a54c-4161-81be-ece9137b0d08\"}];\n",
       "            \n",
       "            Bokeh.embed.embed_items(docs_json, render_items);\n",
       "          };\n",
       "          if (document.readyState != \"loading\") fn();\n",
       "          else document.addEventListener(\"DOMContentLoaded\", fn);\n",
       "        })();\n",
       "      },\n",
       "      function(Bokeh) {\n",
       "      }\n",
       "    ];\n",
       "  \n",
       "    function run_inline_js() {\n",
       "      \n",
       "      if ((window.Bokeh !== undefined) || (force === true)) {\n",
       "        for (var i = 0; i < inline_js.length; i++) {\n",
       "          inline_js[i](window.Bokeh);\n",
       "        }if (force === true) {\n",
       "          display_loaded();\n",
       "        }} else if (Date.now() < window._bokeh_timeout) {\n",
       "        setTimeout(run_inline_js, 100);\n",
       "      } else if (!window._bokeh_failed_load) {\n",
       "        console.log(\"Bokeh: BokehJS failed to load within specified timeout.\");\n",
       "        window._bokeh_failed_load = true;\n",
       "      } else if (force !== true) {\n",
       "        var cell = $(document.getElementById(\"4d6265ec-fe28-4025-9495-d22ad4b5e456\")).parents('.cell').data().cell;\n",
       "        cell.output_area.append_execute_result(NB_LOAD_WARNING)\n",
       "      }\n",
       "  \n",
       "    }\n",
       "  \n",
       "    if (window._bokeh_is_loading === 0) {\n",
       "      console.log(\"Bokeh: BokehJS loaded, going straight to plotting\");\n",
       "      run_inline_js();\n",
       "    } else {\n",
       "      load_libs(js_urls, function() {\n",
       "        console.log(\"Bokeh: BokehJS plotting callback run at\", now());\n",
       "        run_inline_js();\n",
       "      });\n",
       "    }\n",
       "  }(this));\n",
       "</script>"
      ]
     },
     "metadata": {},
     "output_type": "display_data"
    },
    {
     "data": {
      "text/html": [
       "<p><code>&lt;Bokeh Notebook handle for <strong>In[8]</strong>&gt;</code></p>"
      ],
      "text/plain": [
       "<bokeh.io._CommsHandle at 0x1108d45c0>"
      ]
     },
     "execution_count": 36,
     "metadata": {},
     "output_type": "execute_result"
    }
   ],
   "source": [
    "show(p, notebook_handle=True)"
   ]
  },
  {
   "cell_type": "code",
   "execution_count": 37,
   "metadata": {},
   "outputs": [],
   "source": [
    "def update(gradient):\n",
    "    r.data_source.data['y'] = gradient_speed_array(gradient, CPG_matrix, g)[1:]\n",
    "    push_notebook()"
   ]
  },
  {
   "cell_type": "code",
   "execution_count": 38,
   "metadata": {},
   "outputs": [
    {
     "data": {
      "application/vnd.jupyter.widget-view+json": {
       "model_id": "f2b010db571f46a28d72b17995cbdd25"
      }
     },
     "metadata": {},
     "output_type": "display_data"
    },
    {
     "data": {
      "text/plain": [
       "<function __main__.update>"
      ]
     },
     "execution_count": 38,
     "metadata": {},
     "output_type": "execute_result"
    }
   ],
   "source": [
    "interact(update, gradient=(-10,10))"
   ]
  },
  {
   "cell_type": "code",
   "execution_count": null,
   "metadata": {},
   "outputs": [],
   "source": []
  }
 ],
 "metadata": {
  "kernelspec": {
   "display_name": "Python [default]",
   "language": "python",
   "name": "python3"
  },
  "language_info": {
   "codemirror_mode": {
    "name": "ipython",
    "version": 3
   },
   "file_extension": ".py",
   "mimetype": "text/x-python",
   "name": "python",
   "nbconvert_exporter": "python",
   "pygments_lexer": "ipython3",
   "version": "3.5.3"
  }
 },
 "nbformat": 4,
 "nbformat_minor": 2
}
