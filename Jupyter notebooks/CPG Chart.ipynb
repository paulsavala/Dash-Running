{
 "cells": [
  {
   "cell_type": "markdown",
   "metadata": {},
   "source": [
    "The purpose of this notebook is to create a interactive CPG chart, given the pre-computed max speed matrices. This notebook is a combination and improvement upon the notebooks \"CPG Regression\" and \"CPG Chart (computations from scratch)\"."
   ]
  },
  {
   "cell_type": "code",
   "execution_count": 217,
   "metadata": {},
   "outputs": [],
   "source": [
    "import pandas as pd\n",
    "import numpy as np\n",
    "import os\n",
    "from sklearn.linear_model import LinearRegression\n",
    "import datetime"
   ]
  },
  {
   "cell_type": "markdown",
   "metadata": {},
   "source": [
    "A helper function to read in the max speed matrices. Meant to be called individually for each file."
   ]
  },
  {
   "cell_type": "code",
   "execution_count": 220,
   "metadata": {},
   "outputs": [],
   "source": [
    "def read_max_speed_matrix(INDIR, file):\n",
    "    if file.endswith('.csv'):\n",
    "        with open(INDIR + file, 'r') as f:\n",
    "            metadata = {}\n",
    "            rows_to_skip = 0\n",
    "            line = f.readline()\n",
    "            while line.startswith('#'):\n",
    "                key, val = line.split(':')\n",
    "                key = key.replace('#', '')\n",
    "                val = val.replace('\\n', '')\n",
    "                metadata[key] = val\n",
    "                line = f.readline()\n",
    "                rows_to_skip += 1\n",
    "            metadata_and_df = [metadata, pd.read_csv(INDIR + file, \\\n",
    "                                                     skiprows = rows_to_skip)]\n",
    "            \n",
    "    return metadata_and_df"
   ]
  },
  {
   "cell_type": "code",
   "execution_count": 225,
   "metadata": {},
   "outputs": [],
   "source": [
    "def gradient_speed_array(gradient, CPG_matrix, gradient_range):\n",
    "    '''Return a numpy array showing the maximum speed achieved at a given gradient'''\n",
    "    gradient_index = np.where(gradient_range == gradient)\n",
    "    gradient_speed_array = CPG_matrix[:,gradient_index[0][0]]\n",
    "    return gradient_speed_array"
   ]
  },
  {
   "cell_type": "code",
   "execution_count": 226,
   "metadata": {},
   "outputs": [],
   "source": [
    "def max_speed_matrix_and_metadata_by_date(start_date, end_date):\n",
    "    start_date_formatted = datetime.datetime.strptime(start_date, '%Y-%m-%d')\n",
    "    end_date_formatted = datetime.datetime.strptime(end_date, '%Y-%m-%d')\n",
    "    \n",
    "    files = os.listdir(r'data/max_speed_matrices/')\n",
    "    file_dates = []\n",
    "    for file in files:\n",
    "        if file.endswith('.csv'):\n",
    "            file_date = datetime.datetime.strptime(file.split(':')[0], '%Y-%m-%d')\n",
    "            if (start_date_formatted <= file_date <= end_date_formatted):\n",
    "                file_dates.append(file)\n",
    "    \n",
    "    matrix_list = [read_max_speed_matrix(r'data/max_speed_matrices/', file) for file in file_dates]\n",
    "                \n",
    "    return matrix_list"
   ]
  },
  {
   "cell_type": "code",
   "execution_count": 236,
   "metadata": {},
   "outputs": [],
   "source": [
    "def compute_CPG_matrix(df_list, time_interval, gradient_interval):\n",
    "    max_speed_list = [df[gradient_interval].iloc[time_interval].as_matrix() for df in df_list] # Select the requested gradient and time intervals\n",
    "    CPG_matrix = np.maximum.reduce(max_speed_list)\n",
    "    return CPG_matrix"
   ]
  },
  {
   "cell_type": "code",
   "execution_count": 262,
   "metadata": {},
   "outputs": [],
   "source": [
    "minutes = 10\n",
    "t = np.arange(60*minutes + 1)\n",
    "g = np.arange(-10, 11)\n",
    "all_gradients = np.arange(-100, 100)\n",
    "\n",
    "start_date = '2018-01-05'\n",
    "end_date = '2018-01-20'\n",
    "\n",
    "matrices_by_date = max_speed_matrix_and_metadata_by_date(start_date, end_date)\n",
    "unzipped = list(zip(*matrices_by_date))\n",
    "metadata_by_date = unzipped[0]\n",
    "df_by_date = unzipped[1]\n",
    "\n",
    "CPG_matrix_by_date = compute_CPG_matrix(df_by_date, t, g)"
   ]
  },
  {
   "cell_type": "code",
   "execution_count": 265,
   "metadata": {},
   "outputs": [],
   "source": [
    "def compute_CP_Wprime(CPG_matrix, gradient, gradient_range, time_range):\n",
    "    ''' This uses linear regression on the equation t*P(t) = t*CP + Wprime to compute CP and Wprime.'''\n",
    "    CPG_fixed_gradient = gradient_speed_array(gradient, CPG_matrix, gradient_range)\n",
    "    indices_with_nonzero_pace = np.nonzero(CPG_fixed_gradient)\n",
    "    CPG_fixed_gradient_nonzero = CPG_fixed_gradient[indices_with_nonzero_pace]\n",
    "    time_range_nonzero = time_range[indices_with_nonzero_pace]\n",
    "    \n",
    "    lr = LinearRegression()\n",
    "    \n",
    "    pace_times_time_gradient_fixed = np.array(CPG_fixed_gradient_nonzero*time_range_nonzero)\n",
    "    input_length = len(time_range_nonzero)\n",
    "    pace_times_time_gradient_fixed = pace_times_time_gradient_fixed.reshape((input_length,1))\n",
    "    time_range = time_range_nonzero.reshape((input_length, 1)) # This reshaping is needed by sklearn\n",
    "\n",
    "    lr.fit(time_range, pace_times_time_gradient_fixed)\n",
    "    return (lr.coef_[0][0], lr.intercept_[0])"
   ]
  },
  {
   "cell_type": "code",
   "execution_count": 274,
   "metadata": {},
   "outputs": [
    {
     "data": {
      "text/html": [
       "\n",
       "    <div class=\"bk-root\">\n",
       "        <a href=\"http://bokeh.pydata.org\" target=\"_blank\" class=\"bk-logo bk-logo-small bk-logo-notebook\"></a>\n",
       "        <span id=\"c39bc697-d25c-4bd5-b228-ca3435838465\">Loading BokehJS ...</span>\n",
       "    </div>"
      ]
     },
     "metadata": {},
     "output_type": "display_data"
    },
    {
     "data": {
      "application/javascript": [
       "\n",
       "(function(global) {\n",
       "  function now() {\n",
       "    return new Date();\n",
       "  }\n",
       "\n",
       "  var force = true;\n",
       "\n",
       "  if (typeof (window._bokeh_onload_callbacks) === \"undefined\" || force === true) {\n",
       "    window._bokeh_onload_callbacks = [];\n",
       "    window._bokeh_is_loading = undefined;\n",
       "  }\n",
       "\n",
       "\n",
       "  \n",
       "  if (typeof (window._bokeh_timeout) === \"undefined\" || force === true) {\n",
       "    window._bokeh_timeout = Date.now() + 5000;\n",
       "    window._bokeh_failed_load = false;\n",
       "  }\n",
       "\n",
       "  var NB_LOAD_WARNING = {'data': {'text/html':\n",
       "     \"<div style='background-color: #fdd'>\\n\"+\n",
       "     \"<p>\\n\"+\n",
       "     \"BokehJS does not appear to have successfully loaded. If loading BokehJS from CDN, this \\n\"+\n",
       "     \"may be due to a slow or bad network connection. Possible fixes:\\n\"+\n",
       "     \"</p>\\n\"+\n",
       "     \"<ul>\\n\"+\n",
       "     \"<li>re-rerun `output_notebook()` to attempt to load from CDN again, or</li>\\n\"+\n",
       "     \"<li>use INLINE resources instead, as so:</li>\\n\"+\n",
       "     \"</ul>\\n\"+\n",
       "     \"<code>\\n\"+\n",
       "     \"from bokeh.resources import INLINE\\n\"+\n",
       "     \"output_notebook(resources=INLINE)\\n\"+\n",
       "     \"</code>\\n\"+\n",
       "     \"</div>\"}};\n",
       "\n",
       "  function display_loaded() {\n",
       "    if (window.Bokeh !== undefined) {\n",
       "      var el = document.getElementById(\"c39bc697-d25c-4bd5-b228-ca3435838465\");\n",
       "      el.textContent = \"BokehJS \" + Bokeh.version + \" successfully loaded.\";\n",
       "    } else if (Date.now() < window._bokeh_timeout) {\n",
       "      setTimeout(display_loaded, 100)\n",
       "    }\n",
       "  }\n",
       "\n",
       "  function run_callbacks() {\n",
       "    window._bokeh_onload_callbacks.forEach(function(callback) { callback() });\n",
       "    delete window._bokeh_onload_callbacks\n",
       "    console.info(\"Bokeh: all callbacks have finished\");\n",
       "  }\n",
       "\n",
       "  function load_libs(js_urls, callback) {\n",
       "    window._bokeh_onload_callbacks.push(callback);\n",
       "    if (window._bokeh_is_loading > 0) {\n",
       "      console.log(\"Bokeh: BokehJS is being loaded, scheduling callback at\", now());\n",
       "      return null;\n",
       "    }\n",
       "    if (js_urls == null || js_urls.length === 0) {\n",
       "      run_callbacks();\n",
       "      return null;\n",
       "    }\n",
       "    console.log(\"Bokeh: BokehJS not loaded, scheduling load and callback at\", now());\n",
       "    window._bokeh_is_loading = js_urls.length;\n",
       "    for (var i = 0; i < js_urls.length; i++) {\n",
       "      var url = js_urls[i];\n",
       "      var s = document.createElement('script');\n",
       "      s.src = url;\n",
       "      s.async = false;\n",
       "      s.onreadystatechange = s.onload = function() {\n",
       "        window._bokeh_is_loading--;\n",
       "        if (window._bokeh_is_loading === 0) {\n",
       "          console.log(\"Bokeh: all BokehJS libraries loaded\");\n",
       "          run_callbacks()\n",
       "        }\n",
       "      };\n",
       "      s.onerror = function() {\n",
       "        console.warn(\"failed to load library \" + url);\n",
       "      };\n",
       "      console.log(\"Bokeh: injecting script tag for BokehJS library: \", url);\n",
       "      document.getElementsByTagName(\"head\")[0].appendChild(s);\n",
       "    }\n",
       "  };var element = document.getElementById(\"c39bc697-d25c-4bd5-b228-ca3435838465\");\n",
       "  if (element == null) {\n",
       "    console.log(\"Bokeh: ERROR: autoload.js configured with elementid 'c39bc697-d25c-4bd5-b228-ca3435838465' but no matching script tag was found. \")\n",
       "    return false;\n",
       "  }\n",
       "\n",
       "  var js_urls = [\"https://cdn.pydata.org/bokeh/release/bokeh-0.12.5.min.js\", \"https://cdn.pydata.org/bokeh/release/bokeh-widgets-0.12.5.min.js\"];\n",
       "\n",
       "  var inline_js = [\n",
       "    function(Bokeh) {\n",
       "      Bokeh.set_log_level(\"info\");\n",
       "    },\n",
       "    \n",
       "    function(Bokeh) {\n",
       "      \n",
       "    },\n",
       "    \n",
       "    function(Bokeh) {\n",
       "      \n",
       "      document.getElementById(\"c39bc697-d25c-4bd5-b228-ca3435838465\").textContent = \"BokehJS is loading...\";\n",
       "    },\n",
       "    function(Bokeh) {\n",
       "      console.log(\"Bokeh: injecting CSS: https://cdn.pydata.org/bokeh/release/bokeh-0.12.5.min.css\");\n",
       "      Bokeh.embed.inject_css(\"https://cdn.pydata.org/bokeh/release/bokeh-0.12.5.min.css\");\n",
       "      console.log(\"Bokeh: injecting CSS: https://cdn.pydata.org/bokeh/release/bokeh-widgets-0.12.5.min.css\");\n",
       "      Bokeh.embed.inject_css(\"https://cdn.pydata.org/bokeh/release/bokeh-widgets-0.12.5.min.css\");\n",
       "    }\n",
       "  ];\n",
       "\n",
       "  function run_inline_js() {\n",
       "    \n",
       "    if ((window.Bokeh !== undefined) || (force === true)) {\n",
       "      for (var i = 0; i < inline_js.length; i++) {\n",
       "        inline_js[i](window.Bokeh);\n",
       "      }if (force === true) {\n",
       "        display_loaded();\n",
       "      }} else if (Date.now() < window._bokeh_timeout) {\n",
       "      setTimeout(run_inline_js, 100);\n",
       "    } else if (!window._bokeh_failed_load) {\n",
       "      console.log(\"Bokeh: BokehJS failed to load within specified timeout.\");\n",
       "      window._bokeh_failed_load = true;\n",
       "    } else if (force !== true) {\n",
       "      var cell = $(document.getElementById(\"c39bc697-d25c-4bd5-b228-ca3435838465\")).parents('.cell').data().cell;\n",
       "      cell.output_area.append_execute_result(NB_LOAD_WARNING)\n",
       "    }\n",
       "\n",
       "  }\n",
       "\n",
       "  if (window._bokeh_is_loading === 0) {\n",
       "    console.log(\"Bokeh: BokehJS loaded, going straight to plotting\");\n",
       "    run_inline_js();\n",
       "  } else {\n",
       "    load_libs(js_urls, function() {\n",
       "      console.log(\"Bokeh: BokehJS plotting callback run at\", now());\n",
       "      run_inline_js();\n",
       "    });\n",
       "  }\n",
       "}(this));"
      ]
     },
     "metadata": {},
     "output_type": "display_data"
    }
   ],
   "source": [
    "from ipywidgets import interact\n",
    "import numpy as np\n",
    "\n",
    "from bokeh.io import push_notebook, show, output_notebook\n",
    "from bokeh.plotting import figure\n",
    "from bokeh.models.widgets import RangeSlider\n",
    "output_notebook()"
   ]
  },
  {
   "cell_type": "code",
   "execution_count": 266,
   "metadata": {},
   "outputs": [],
   "source": [
    "CP_vals = []\n",
    "Wprime_vals = []\n",
    "\n",
    "for gradient in g:\n",
    "    CP, Wprime = compute_CP_Wprime(CPG_matrix_by_date, gradient, all_gradients, t)\n",
    "    CP_vals.append(CP)\n",
    "    Wprime_vals.append(Wprime)"
   ]
  },
  {
   "cell_type": "code",
   "execution_count": 268,
   "metadata": {},
   "outputs": [],
   "source": [
    "p = figure(title=\"CP chart\", plot_height=300, plot_width=600, y_range=(0,7))\n",
    "r = p.line(t[1:], gradient_speed_array(0, CPG_matrix_by_date, all_gradients)[1:], color=\"#2222aa\", line_width=3)"
   ]
  },
  {
   "cell_type": "code",
   "execution_count": 269,
   "metadata": {},
   "outputs": [
    {
     "data": {
      "text/html": [
       "\n",
       "\n",
       "    <div class=\"bk-root\">\n",
       "        <div class=\"bk-plotdiv\" id=\"c6a88cdd-d0d2-4f6d-94ec-c2a07a3b08f5\"></div>\n",
       "    </div>\n",
       "<script type=\"text/javascript\">\n",
       "  \n",
       "  (function(global) {\n",
       "    function now() {\n",
       "      return new Date();\n",
       "    }\n",
       "  \n",
       "    var force = false;\n",
       "  \n",
       "    if (typeof (window._bokeh_onload_callbacks) === \"undefined\" || force === true) {\n",
       "      window._bokeh_onload_callbacks = [];\n",
       "      window._bokeh_is_loading = undefined;\n",
       "    }\n",
       "  \n",
       "  \n",
       "    \n",
       "    if (typeof (window._bokeh_timeout) === \"undefined\" || force === true) {\n",
       "      window._bokeh_timeout = Date.now() + 0;\n",
       "      window._bokeh_failed_load = false;\n",
       "    }\n",
       "  \n",
       "    var NB_LOAD_WARNING = {'data': {'text/html':\n",
       "       \"<div style='background-color: #fdd'>\\n\"+\n",
       "       \"<p>\\n\"+\n",
       "       \"BokehJS does not appear to have successfully loaded. If loading BokehJS from CDN, this \\n\"+\n",
       "       \"may be due to a slow or bad network connection. Possible fixes:\\n\"+\n",
       "       \"</p>\\n\"+\n",
       "       \"<ul>\\n\"+\n",
       "       \"<li>re-rerun `output_notebook()` to attempt to load from CDN again, or</li>\\n\"+\n",
       "       \"<li>use INLINE resources instead, as so:</li>\\n\"+\n",
       "       \"</ul>\\n\"+\n",
       "       \"<code>\\n\"+\n",
       "       \"from bokeh.resources import INLINE\\n\"+\n",
       "       \"output_notebook(resources=INLINE)\\n\"+\n",
       "       \"</code>\\n\"+\n",
       "       \"</div>\"}};\n",
       "  \n",
       "    function display_loaded() {\n",
       "      if (window.Bokeh !== undefined) {\n",
       "        var el = document.getElementById(\"c6a88cdd-d0d2-4f6d-94ec-c2a07a3b08f5\");\n",
       "        el.textContent = \"BokehJS \" + Bokeh.version + \" successfully loaded.\";\n",
       "      } else if (Date.now() < window._bokeh_timeout) {\n",
       "        setTimeout(display_loaded, 100)\n",
       "      }\n",
       "    }if ((window.Jupyter !== undefined) && Jupyter.notebook.kernel) {\n",
       "      comm_manager = Jupyter.notebook.kernel.comm_manager\n",
       "      comm_manager.register_target(\"82c560cf-5e1e-421c-a59e-80c142b49081\", function () {});\n",
       "    }\n",
       "  \n",
       "    function run_callbacks() {\n",
       "      window._bokeh_onload_callbacks.forEach(function(callback) { callback() });\n",
       "      delete window._bokeh_onload_callbacks\n",
       "      console.info(\"Bokeh: all callbacks have finished\");\n",
       "    }\n",
       "  \n",
       "    function load_libs(js_urls, callback) {\n",
       "      window._bokeh_onload_callbacks.push(callback);\n",
       "      if (window._bokeh_is_loading > 0) {\n",
       "        console.log(\"Bokeh: BokehJS is being loaded, scheduling callback at\", now());\n",
       "        return null;\n",
       "      }\n",
       "      if (js_urls == null || js_urls.length === 0) {\n",
       "        run_callbacks();\n",
       "        return null;\n",
       "      }\n",
       "      console.log(\"Bokeh: BokehJS not loaded, scheduling load and callback at\", now());\n",
       "      window._bokeh_is_loading = js_urls.length;\n",
       "      for (var i = 0; i < js_urls.length; i++) {\n",
       "        var url = js_urls[i];\n",
       "        var s = document.createElement('script');\n",
       "        s.src = url;\n",
       "        s.async = false;\n",
       "        s.onreadystatechange = s.onload = function() {\n",
       "          window._bokeh_is_loading--;\n",
       "          if (window._bokeh_is_loading === 0) {\n",
       "            console.log(\"Bokeh: all BokehJS libraries loaded\");\n",
       "            run_callbacks()\n",
       "          }\n",
       "        };\n",
       "        s.onerror = function() {\n",
       "          console.warn(\"failed to load library \" + url);\n",
       "        };\n",
       "        console.log(\"Bokeh: injecting script tag for BokehJS library: \", url);\n",
       "        document.getElementsByTagName(\"head\")[0].appendChild(s);\n",
       "      }\n",
       "    };var element = document.getElementById(\"c6a88cdd-d0d2-4f6d-94ec-c2a07a3b08f5\");\n",
       "    if (element == null) {\n",
       "      console.log(\"Bokeh: ERROR: autoload.js configured with elementid 'c6a88cdd-d0d2-4f6d-94ec-c2a07a3b08f5' but no matching script tag was found. \")\n",
       "      return false;\n",
       "    }\n",
       "  \n",
       "    var js_urls = [];\n",
       "  \n",
       "    var inline_js = [\n",
       "      function(Bokeh) {\n",
       "        (function() {\n",
       "          var fn = function() {\n",
       "            var docs_json = {\"165c357e-6ee9-4134-97b6-887a84dd9e41\":{\"roots\":{\"references\":[{\"attributes\":{\"plot\":{\"id\":\"21d8cabc-e2ac-4718-9585-142c27e19bd9\",\"subtype\":\"Figure\",\"type\":\"Plot\"}},\"id\":\"ff64aed3-6f64-4954-8f91-fb308771f9f6\",\"type\":\"ResetTool\"},{\"attributes\":{\"data_source\":{\"id\":\"9f2a6fab-7567-4afe-be93-752a8b0f7000\",\"type\":\"ColumnDataSource\"},\"glyph\":{\"id\":\"13b3ca99-47ce-4abd-8ed6-a1a3ce03fb12\",\"type\":\"Line\"},\"hover_glyph\":null,\"muted_glyph\":null,\"nonselection_glyph\":{\"id\":\"58816990-645e-4887-a254-846d29fc83f2\",\"type\":\"Line\"},\"selection_glyph\":null},\"id\":\"54d94dd8-03c0-4861-8fd3-0f001625f00b\",\"type\":\"GlyphRenderer\"},{\"attributes\":{\"below\":[{\"id\":\"d7fddcca-a2c5-4f5b-b1c2-b005bc88c45e\",\"type\":\"LinearAxis\"}],\"left\":[{\"id\":\"c8d9c9ca-7204-4972-821c-d71acee217b9\",\"type\":\"LinearAxis\"}],\"plot_height\":300,\"renderers\":[{\"id\":\"d7fddcca-a2c5-4f5b-b1c2-b005bc88c45e\",\"type\":\"LinearAxis\"},{\"id\":\"c09d0f10-88d6-4994-82a1-638f1ced0401\",\"type\":\"Grid\"},{\"id\":\"c8d9c9ca-7204-4972-821c-d71acee217b9\",\"type\":\"LinearAxis\"},{\"id\":\"f27cf471-c160-4a25-8b11-37f05dee55ee\",\"type\":\"Grid\"},{\"id\":\"98276bc2-2d96-41e2-9726-f833f6479b04\",\"type\":\"BoxAnnotation\"},{\"id\":\"54d94dd8-03c0-4861-8fd3-0f001625f00b\",\"type\":\"GlyphRenderer\"}],\"title\":{\"id\":\"869840cd-4d04-4ad1-a573-74519ece5090\",\"type\":\"Title\"},\"tool_events\":{\"id\":\"da96b1c1-2c8c-46fa-b51d-b34f8142f209\",\"type\":\"ToolEvents\"},\"toolbar\":{\"id\":\"1cc7c809-a491-44ab-8208-bcecb5fbc16c\",\"type\":\"Toolbar\"},\"x_range\":{\"id\":\"b1afd443-7ceb-4c38-b357-a6e35d132cbc\",\"type\":\"DataRange1d\"},\"y_range\":{\"id\":\"41fca4ae-2e5c-4919-a9bd-fe89f280ee85\",\"type\":\"Range1d\"}},\"id\":\"21d8cabc-e2ac-4718-9585-142c27e19bd9\",\"subtype\":\"Figure\",\"type\":\"Plot\"},{\"attributes\":{\"plot\":{\"id\":\"21d8cabc-e2ac-4718-9585-142c27e19bd9\",\"subtype\":\"Figure\",\"type\":\"Plot\"}},\"id\":\"e2ff01ac-6781-41a1-8bae-ef2db45c8f48\",\"type\":\"WheelZoomTool\"},{\"attributes\":{\"callback\":null},\"id\":\"b1afd443-7ceb-4c38-b357-a6e35d132cbc\",\"type\":\"DataRange1d\"},{\"attributes\":{},\"id\":\"da96b1c1-2c8c-46fa-b51d-b34f8142f209\",\"type\":\"ToolEvents\"},{\"attributes\":{\"plot\":{\"id\":\"21d8cabc-e2ac-4718-9585-142c27e19bd9\",\"subtype\":\"Figure\",\"type\":\"Plot\"}},\"id\":\"338936d9-5b68-48c8-a328-eb49fcf2b8c3\",\"type\":\"SaveTool\"},{\"attributes\":{\"active_drag\":\"auto\",\"active_scroll\":\"auto\",\"active_tap\":\"auto\",\"tools\":[{\"id\":\"66c97dca-6128-4291-9569-017df5a4c06e\",\"type\":\"PanTool\"},{\"id\":\"e2ff01ac-6781-41a1-8bae-ef2db45c8f48\",\"type\":\"WheelZoomTool\"},{\"id\":\"08cd9ad8-b72d-4794-9797-e071e367f656\",\"type\":\"BoxZoomTool\"},{\"id\":\"338936d9-5b68-48c8-a328-eb49fcf2b8c3\",\"type\":\"SaveTool\"},{\"id\":\"ff64aed3-6f64-4954-8f91-fb308771f9f6\",\"type\":\"ResetTool\"},{\"id\":\"db295094-ad44-4fd5-b0ad-41d7fed279cd\",\"type\":\"HelpTool\"}]},\"id\":\"1cc7c809-a491-44ab-8208-bcecb5fbc16c\",\"type\":\"Toolbar\"},{\"attributes\":{\"plot\":null,\"text\":\"CP chart\"},\"id\":\"869840cd-4d04-4ad1-a573-74519ece5090\",\"type\":\"Title\"},{\"attributes\":{},\"id\":\"cc4c47ce-504f-4421-a38a-86fc112b2048\",\"type\":\"BasicTicker\"},{\"attributes\":{\"callback\":null,\"end\":7},\"id\":\"41fca4ae-2e5c-4919-a9bd-fe89f280ee85\",\"type\":\"Range1d\"},{\"attributes\":{\"overlay\":{\"id\":\"98276bc2-2d96-41e2-9726-f833f6479b04\",\"type\":\"BoxAnnotation\"},\"plot\":{\"id\":\"21d8cabc-e2ac-4718-9585-142c27e19bd9\",\"subtype\":\"Figure\",\"type\":\"Plot\"}},\"id\":\"08cd9ad8-b72d-4794-9797-e071e367f656\",\"type\":\"BoxZoomTool\"},{\"attributes\":{\"formatter\":{\"id\":\"ee155e2e-ec20-461d-a55a-36e300352e64\",\"type\":\"BasicTickFormatter\"},\"plot\":{\"id\":\"21d8cabc-e2ac-4718-9585-142c27e19bd9\",\"subtype\":\"Figure\",\"type\":\"Plot\"},\"ticker\":{\"id\":\"67a47f6a-fa89-4e97-b6a8-6e8c14787905\",\"type\":\"BasicTicker\"}},\"id\":\"d7fddcca-a2c5-4f5b-b1c2-b005bc88c45e\",\"type\":\"LinearAxis\"},{\"attributes\":{\"formatter\":{\"id\":\"49b001e2-2ef9-4c69-982b-fbda94dd26cb\",\"type\":\"BasicTickFormatter\"},\"plot\":{\"id\":\"21d8cabc-e2ac-4718-9585-142c27e19bd9\",\"subtype\":\"Figure\",\"type\":\"Plot\"},\"ticker\":{\"id\":\"cc4c47ce-504f-4421-a38a-86fc112b2048\",\"type\":\"BasicTicker\"}},\"id\":\"c8d9c9ca-7204-4972-821c-d71acee217b9\",\"type\":\"LinearAxis\"},{\"attributes\":{},\"id\":\"49b001e2-2ef9-4c69-982b-fbda94dd26cb\",\"type\":\"BasicTickFormatter\"},{\"attributes\":{\"line_color\":{\"value\":\"#2222aa\"},\"line_width\":{\"value\":3},\"x\":{\"field\":\"x\"},\"y\":{\"field\":\"y\"}},\"id\":\"13b3ca99-47ce-4abd-8ed6-a1a3ce03fb12\",\"type\":\"Line\"},{\"attributes\":{\"line_alpha\":{\"value\":0.1},\"line_color\":{\"value\":\"#1f77b4\"},\"line_width\":{\"value\":3},\"x\":{\"field\":\"x\"},\"y\":{\"field\":\"y\"}},\"id\":\"58816990-645e-4887-a254-846d29fc83f2\",\"type\":\"Line\"},{\"attributes\":{\"bottom_units\":\"screen\",\"fill_alpha\":{\"value\":0.5},\"fill_color\":{\"value\":\"lightgrey\"},\"left_units\":\"screen\",\"level\":\"overlay\",\"line_alpha\":{\"value\":1.0},\"line_color\":{\"value\":\"black\"},\"line_dash\":[4,4],\"line_width\":{\"value\":2},\"plot\":null,\"render_mode\":\"css\",\"right_units\":\"screen\",\"top_units\":\"screen\"},\"id\":\"98276bc2-2d96-41e2-9726-f833f6479b04\",\"type\":\"BoxAnnotation\"},{\"attributes\":{},\"id\":\"ee155e2e-ec20-461d-a55a-36e300352e64\",\"type\":\"BasicTickFormatter\"},{\"attributes\":{\"plot\":{\"id\":\"21d8cabc-e2ac-4718-9585-142c27e19bd9\",\"subtype\":\"Figure\",\"type\":\"Plot\"},\"ticker\":{\"id\":\"67a47f6a-fa89-4e97-b6a8-6e8c14787905\",\"type\":\"BasicTicker\"}},\"id\":\"c09d0f10-88d6-4994-82a1-638f1ced0401\",\"type\":\"Grid\"},{\"attributes\":{\"plot\":{\"id\":\"21d8cabc-e2ac-4718-9585-142c27e19bd9\",\"subtype\":\"Figure\",\"type\":\"Plot\"}},\"id\":\"db295094-ad44-4fd5-b0ad-41d7fed279cd\",\"type\":\"HelpTool\"},{\"attributes\":{\"plot\":{\"id\":\"21d8cabc-e2ac-4718-9585-142c27e19bd9\",\"subtype\":\"Figure\",\"type\":\"Plot\"}},\"id\":\"66c97dca-6128-4291-9569-017df5a4c06e\",\"type\":\"PanTool\"},{\"attributes\":{\"dimension\":1,\"plot\":{\"id\":\"21d8cabc-e2ac-4718-9585-142c27e19bd9\",\"subtype\":\"Figure\",\"type\":\"Plot\"},\"ticker\":{\"id\":\"cc4c47ce-504f-4421-a38a-86fc112b2048\",\"type\":\"BasicTicker\"}},\"id\":\"f27cf471-c160-4a25-8b11-37f05dee55ee\",\"type\":\"Grid\"},{\"attributes\":{},\"id\":\"67a47f6a-fa89-4e97-b6a8-6e8c14787905\",\"type\":\"BasicTicker\"},{\"attributes\":{\"callback\":null,\"column_names\":[\"x\",\"y\"],\"data\":{\"x\":[1,2,3,4,5,6,7,8,9,10,11,12,13,14,15,16,17,18,19,20,21,22,23,24,25,26,27,28,29,30,31,32,33,34,35,36,37,38,39,40,41,42,43,44,45,46,47,48,49,50,51,52,53,54,55,56,57,58,59,60,61,62,63,64,65,66,67,68,69,70,71,72,73,74,75,76,77,78,79,80,81,82,83,84,85,86,87,88,89,90,91,92,93,94,95,96,97,98,99,100,101,102,103,104,105,106,107,108,109,110,111,112,113,114,115,116,117,118,119,120,121,122,123,124,125,126,127,128,129,130,131,132,133,134,135,136,137,138,139,140,141,142,143,144,145,146,147,148,149,150,151,152,153,154,155,156,157,158,159,160,161,162,163,164,165,166,167,168,169,170,171,172,173,174,175,176,177,178,179,180,181,182,183,184,185,186,187,188,189,190,191,192,193,194,195,196,197,198,199,200,201,202,203,204,205,206,207,208,209,210,211,212,213,214,215,216,217,218,219,220,221,222,223,224,225,226,227,228,229,230,231,232,233,234,235,236,237,238,239,240,241,242,243,244,245,246,247,248,249,250,251,252,253,254,255,256,257,258,259,260,261,262,263,264,265,266,267,268,269,270,271,272,273,274,275,276,277,278,279,280,281,282,283,284,285,286,287,288,289,290,291,292,293,294,295,296,297,298,299,300,301,302,303,304,305,306,307,308,309,310,311,312,313,314,315,316,317,318,319,320,321,322,323,324,325,326,327,328,329,330,331,332,333,334,335,336,337,338,339,340,341,342,343,344,345,346,347,348,349,350,351,352,353,354,355,356,357,358,359,360,361,362,363,364,365,366,367,368,369,370,371,372,373,374,375,376,377,378,379,380,381,382,383,384,385,386,387,388,389,390,391,392,393,394,395,396,397,398,399,400,401,402,403,404,405,406,407,408,409,410,411,412,413,414,415,416,417,418,419,420,421,422,423,424,425,426,427,428,429,430,431,432,433,434,435,436,437,438,439,440,441,442,443,444,445,446,447,448,449,450,451,452,453,454,455,456,457,458,459,460,461,462,463,464,465,466,467,468,469,470,471,472,473,474,475,476,477,478,479,480,481,482,483,484,485,486,487,488,489,490,491,492,493,494,495,496,497,498,499,500,501,502,503,504,505,506,507,508,509,510,511,512,513,514,515,516,517,518,519,520,521,522,523,524,525,526,527,528,529,530,531,532,533,534,535,536,537,538,539,540,541,542,543,544,545,546,547,548,549,550,551,552,553,554,555,556,557,558,559,560,561,562,563,564,565,566,567,568,569,570,571,572,573,574,575,576,577,578,579,580,581,582,583,584,585,586,587,588,589,590,591,592,593,594,595,596,597,598,599,600],\"y\":{\"__ndarray__\":\"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\",\"dtype\":\"float64\",\"shape\":[600]}}},\"id\":\"9f2a6fab-7567-4afe-be93-752a8b0f7000\",\"type\":\"ColumnDataSource\"}],\"root_ids\":[\"21d8cabc-e2ac-4718-9585-142c27e19bd9\"]},\"title\":\"Bokeh Application\",\"version\":\"0.12.5\"}};\n",
       "            var render_items = [{\"docid\":\"165c357e-6ee9-4134-97b6-887a84dd9e41\",\"elementid\":\"c6a88cdd-d0d2-4f6d-94ec-c2a07a3b08f5\",\"modelid\":\"21d8cabc-e2ac-4718-9585-142c27e19bd9\",\"notebook_comms_target\":\"82c560cf-5e1e-421c-a59e-80c142b49081\"}];\n",
       "            \n",
       "            Bokeh.embed.embed_items(docs_json, render_items);\n",
       "          };\n",
       "          if (document.readyState != \"loading\") fn();\n",
       "          else document.addEventListener(\"DOMContentLoaded\", fn);\n",
       "        })();\n",
       "      },\n",
       "      function(Bokeh) {\n",
       "      }\n",
       "    ];\n",
       "  \n",
       "    function run_inline_js() {\n",
       "      \n",
       "      if ((window.Bokeh !== undefined) || (force === true)) {\n",
       "        for (var i = 0; i < inline_js.length; i++) {\n",
       "          inline_js[i](window.Bokeh);\n",
       "        }if (force === true) {\n",
       "          display_loaded();\n",
       "        }} else if (Date.now() < window._bokeh_timeout) {\n",
       "        setTimeout(run_inline_js, 100);\n",
       "      } else if (!window._bokeh_failed_load) {\n",
       "        console.log(\"Bokeh: BokehJS failed to load within specified timeout.\");\n",
       "        window._bokeh_failed_load = true;\n",
       "      } else if (force !== true) {\n",
       "        var cell = $(document.getElementById(\"c6a88cdd-d0d2-4f6d-94ec-c2a07a3b08f5\")).parents('.cell').data().cell;\n",
       "        cell.output_area.append_execute_result(NB_LOAD_WARNING)\n",
       "      }\n",
       "  \n",
       "    }\n",
       "  \n",
       "    if (window._bokeh_is_loading === 0) {\n",
       "      console.log(\"Bokeh: BokehJS loaded, going straight to plotting\");\n",
       "      run_inline_js();\n",
       "    } else {\n",
       "      load_libs(js_urls, function() {\n",
       "        console.log(\"Bokeh: BokehJS plotting callback run at\", now());\n",
       "        run_inline_js();\n",
       "      });\n",
       "    }\n",
       "  }(this));\n",
       "</script>"
      ]
     },
     "metadata": {},
     "output_type": "display_data"
    },
    {
     "data": {
      "text/html": [
       "<p><code>&lt;Bokeh Notebook handle for <strong>In[26]</strong>&gt;</code></p>"
      ],
      "text/plain": [
       "<bokeh.io._CommsHandle at 0x116267828>"
      ]
     },
     "execution_count": 269,
     "metadata": {},
     "output_type": "execute_result"
    }
   ],
   "source": [
    "show(p, notebook_handle=True)"
   ]
  },
  {
   "cell_type": "code",
   "execution_count": 272,
   "metadata": {},
   "outputs": [],
   "source": [
    "def update(gradient):\n",
    "    r.data_source.data['y'] = gradient_speed_array(gradient, CPG_matrix_by_date, all_gradients)[1:]\n",
    "    push_notebook()"
   ]
  },
  {
   "cell_type": "code",
   "execution_count": 273,
   "metadata": {},
   "outputs": [
    {
     "data": {
      "application/vnd.jupyter.widget-view+json": {
       "model_id": "75bbf9d59d2c4f4c9c8f59356f6b2135"
      }
     },
     "metadata": {},
     "output_type": "display_data"
    },
    {
     "data": {
      "text/plain": [
       "<function __main__.update>"
      ]
     },
     "execution_count": 273,
     "metadata": {},
     "output_type": "execute_result"
    }
   ],
   "source": [
    "interact(update, gradient=(-10,10))"
   ]
  },
  {
   "cell_type": "code",
   "execution_count": null,
   "metadata": {},
   "outputs": [],
   "source": [
    "def update(gradient):\n",
    "    r.data_source.data['y'] = gradient_speed_array(gradient, CPG_matrix_by_date, all_gradients)[1:]\n",
    "    push_notebook()"
   ]
  }
 ],
 "metadata": {
  "kernelspec": {
   "display_name": "Python [default]",
   "language": "python",
   "name": "python3"
  },
  "language_info": {
   "codemirror_mode": {
    "name": "ipython",
    "version": 3
   },
   "file_extension": ".py",
   "mimetype": "text/x-python",
   "name": "python",
   "nbconvert_exporter": "python",
   "pygments_lexer": "ipython3",
   "version": "3.5.3"
  }
 },
 "nbformat": 4,
 "nbformat_minor": 2
}
