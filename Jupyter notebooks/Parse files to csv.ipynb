{
 "cells": [
  {
   "cell_type": "markdown",
   "metadata": {},
   "source": [
    "The entire point of this notebook is to take the 'data/gpx' folder, parse the interesting data from each, write it to csv, and save it in the 'data/csv' folder. All of this is done using the column names from Strava. If importing a gpx file from some other site there may be issues."
   ]
  },
  {
   "cell_type": "code",
   "execution_count": 1,
   "metadata": {},
   "outputs": [],
   "source": [
    "import gpxpy # Used for reading gpx files\n",
    "from geopy.distance import vincenty # Used for calculating distances between (lat, lon) pairs\n",
    "import os\n",
    "import pandas as pd\n",
    "import numpy as np"
   ]
  },
  {
   "cell_type": "code",
   "execution_count": 2,
   "metadata": {},
   "outputs": [],
   "source": [
    "# INDIR is where the raw gpx files are located, and OUTDIR is where the cleaned csv files should go\n",
    "INDIR = r'data/gpx/'\n",
    "OUTDIR = r'data/csv/'\n",
    "\n",
    "def parsegpx(f):\n",
    "    #Parse a GPX file into a list of dictoinaries.  \n",
    "    #Each dict is one row of the final dataset\n",
    "    \n",
    "    points2 = []\n",
    "    with open(f, 'r') as gpxfile:\n",
    "        print(f)\n",
    "        gpx = gpxpy.parse(gpxfile)\n",
    "        for track in gpx.tracks:\n",
    "            for segment in track.segments:\n",
    "                for point in segment.points:\n",
    "                    dict = {'Timestamp' : point.time,\n",
    "                            'Latitude' : point.latitude,\n",
    "                            'Longitude' : point.longitude,\n",
    "                            'Elevation' : point.elevation\n",
    "                            }\n",
    "                    points2.append(dict)\n",
    "    return points2"
   ]
  },
  {
   "cell_type": "markdown",
   "metadata": {},
   "source": [
    "This function takes a raw gpx file from Strava, computes the seconds elapsed, the distance between successive points, the elevation change, the time change, the instantaneous speed, and the gradient. It then writes this cleaned df to a csv in the data/csv folder."
   ]
  },
  {
   "cell_type": "code",
   "execution_count": 3,
   "metadata": {},
   "outputs": [],
   "source": [
    "def clean_df(df):\n",
    "    # Compute time elapsed in seconds\n",
    "    initial_time = df['Timestamp'].iloc[0]\n",
    "    df['sec_elapsed'] = (df['Timestamp'] - initial_time) / np.timedelta64(1, 's')\n",
    "    \n",
    "    # Compute the distance (in meters) between successive points\n",
    "    df['lat_lon'] = list(zip(df['Latitude'], df['Longitude']))\n",
    "    \n",
    "    lat_lon_offset = list(df['lat_lon'])\n",
    "    lat_lon_offset.insert(0,lat_lon_offset[0])\n",
    "    lat_lon_offset = lat_lon_offset[:-1]\n",
    "\n",
    "    df['lat_lon_offset'] = lat_lon_offset\n",
    "    \n",
    "    df['lat_lon_pairs'] = list(zip(df['lat_lon'], df['lat_lon_offset']))\n",
    "    \n",
    "    df['dist_delta_meters'] = df['lat_lon_pairs'].apply(lambda x: vincenty(x[0], x[1]).meters)\n",
    "    \n",
    "    # Compute the elevation difference (in meters) between successive points\n",
    "    elev_offset = list(df['Elevation'])\n",
    "    elev_offset.insert(0,elev_offset[0])\n",
    "    elev_offset = pd.Series(elev_offset[:-1])\n",
    "    df['elev_delta_meters'] = df['Elevation'] - elev_offset\n",
    "    \n",
    "    # Compute the time difference (in seconds) between successive points\n",
    "    time_offset = list(df['Timestamp'])\n",
    "    time_offset.insert(0,time_offset[0])\n",
    "    time_offset = pd.Series(time_offset[:-1])\n",
    "    df['time_delta_sec'] = (df['Timestamp'] - time_offset) / np.timedelta64(1, 's')\n",
    "    \n",
    "    # Compute instantaneous speed (in meters per second)\n",
    "    df['inst_speed_meters_sec'] = df['dist_delta_meters'] / df['time_delta_sec']\n",
    "    df['inst_speed_meters_sec'] = df['inst_speed_meters_sec'].fillna(0.0)\n",
    "    \n",
    "    # Compute gradient (unitless)\n",
    "    df['gradient'] = df['elev_delta_meters'] / df['dist_delta_meters']\n",
    "    df['gradient'].fillna(0.0, inplace=True)\n",
    "    \n",
    "    df.drop(['Latitude', 'Longitude', 'lat_lon_offset', 'lat_lon_pairs'], axis=1, inplace=True)\n",
    "    \n",
    "    return df"
   ]
  },
  {
   "cell_type": "code",
   "execution_count": 4,
   "metadata": {},
   "outputs": [
    {
     "name": "stdout",
     "output_type": "stream",
     "text": [
      "data/gpx/Orchard_Hills_with_Ling_and_Almond.gpx\n"
     ]
    }
   ],
   "source": [
    "#Parse the gpx files into a pandas dataframe and clean each, then save to csv\n",
    "files = os.listdir(INDIR)\n",
    "\n",
    "for file in files:\n",
    "    if file.endswith('.gpx'):\n",
    "        df = pd.DataFrame(parsegpx(INDIR + file))\n",
    "        df = clean_df(df)\n",
    "        df.to_csv('data/csv/' + file.replace('gpx', 'csv'), index=False)"
   ]
  },
  {
   "cell_type": "code",
   "execution_count": null,
   "metadata": {},
   "outputs": [],
   "source": []
  }
 ],
 "metadata": {
  "kernelspec": {
   "display_name": "Python [default]",
   "language": "python",
   "name": "python3"
  },
  "language_info": {
   "codemirror_mode": {
    "name": "ipython",
    "version": 3
   },
   "file_extension": ".py",
   "mimetype": "text/x-python",
   "name": "python",
   "nbconvert_exporter": "python",
   "pygments_lexer": "ipython3",
   "version": "3.5.3"
  }
 },
 "nbformat": 4,
 "nbformat_minor": 2
}
