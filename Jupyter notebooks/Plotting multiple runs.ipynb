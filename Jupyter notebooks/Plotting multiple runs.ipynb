{
 "cells": [
  {
   "cell_type": "markdown",
   "metadata": {},
   "source": [
    "The purpose of this notebook is to be able to import multiple runs at once, and access them either independently, or in-aggregate."
   ]
  },
  {
   "cell_type": "code",
   "execution_count": 1,
   "metadata": {},
   "outputs": [],
   "source": [
    "import pandas as pd\n",
    "import numpy as np\n",
    "import os\n",
    "import plotly.plotly as py\n",
    "import plotly.graph_objs as go"
   ]
  },
  {
   "cell_type": "code",
   "execution_count": 2,
   "metadata": {},
   "outputs": [],
   "source": [
    "INDIR = r'data/csv/'\n",
    "OUTDIR = r'data/csv/'\n",
    "\n",
    "files = os.listdir(INDIR)"
   ]
  },
  {
   "cell_type": "code",
   "execution_count": 3,
   "metadata": {},
   "outputs": [],
   "source": [
    "def get_run_df(file):\n",
    "    return pd.read_csv(INDIR + file)"
   ]
  },
  {
   "cell_type": "code",
   "execution_count": 4,
   "metadata": {},
   "outputs": [],
   "source": [
    "def smooth_col(n, col, df):\n",
    "    ''' n = number of measurements to smooth\n",
    "        col = column name to apply smoothing to\n",
    "        df = Pandas dataframe'''\n",
    "\n",
    "    if len(df) < n:\n",
    "        print(\"Reduce smoothing to less than %d\" % len(df))\n",
    "    \n",
    "    col_name = col + '_smooth_' + str(n)\n",
    "    smoothed_col = df[col].rolling(n, min_periods=1).mean()\n",
    "    \n",
    "    return smoothed_col"
   ]
  },
  {
   "cell_type": "code",
   "execution_count": 5,
   "metadata": {},
   "outputs": [],
   "source": [
    "def gradient_pace(files, smooth=3):\n",
    "    data = []\n",
    "    for file in files:\n",
    "        if file.endswith('.csv'):\n",
    "            run_df = get_run_df(file)\n",
    "            run_df.head()\n",
    "            data.append({'x': smooth_col(smooth, 'gradient', run_df),\n",
    "                        'y': smooth_col(smooth, 'inst_speed_meters_sec', run_df),\n",
    "                        'mode': 'markers',\n",
    "                        'name': file.replace('_', ' ').replace('.csv','')})\n",
    "    return data"
   ]
  },
  {
   "cell_type": "markdown",
   "metadata": {},
   "source": [
    "The cell below does a simple graph of all the runs."
   ]
  },
  {
   "cell_type": "code",
   "execution_count": 35,
   "metadata": {},
   "outputs": [
    {
     "data": {
      "text/plain": [
       "'https://plot.ly/~paulsavala/32'"
      ]
     },
     "execution_count": 35,
     "metadata": {},
     "output_type": "execute_result"
    }
   ],
   "source": [
    "data = gradient_pace(files, 3)\n",
    "\n",
    "layout = { 'xaxis': {'title': 'Gradient'},\n",
    "            'yaxis': {'title': 'Speed (meters/sec)'},\n",
    "            'title': 'Gradient vs Speed'\n",
    "        }\n",
    "    \n",
    "\n",
    "fig = {\n",
    "    'data': data,\n",
    "    'layout': layout\n",
    "    }\n",
    "\n",
    "py.plot(fig)"
   ]
  },
  {
   "cell_type": "markdown",
   "metadata": {},
   "source": [
    "We will now add a dropdown menu to the above graph, to allow the user to select a single run to display. This works if you manually create a dropdown element for each individual run. Obviously this is not ideal, and should be fixed."
   ]
  },
  {
   "cell_type": "code",
   "execution_count": 36,
   "metadata": {},
   "outputs": [],
   "source": [
    "updatemenus=list([\n",
    "    dict(\n",
    "        buttons=list([   \n",
    "            dict(\n",
    "                args=['visible', [True, True, True]],\n",
    "                label='All',\n",
    "                method='restyle'\n",
    "            ),\n",
    "            dict(\n",
    "                args=['visible', [True, False, False]],\n",
    "                label='1',\n",
    "                method='restyle'\n",
    "            ),\n",
    "            dict(\n",
    "                args=['visible', [False, True, False]],\n",
    "                label='2',\n",
    "                method='restyle'\n",
    "            ),\n",
    "            dict(\n",
    "                args=['visible', [False, False, True]],\n",
    "                label='3',\n",
    "                method='restyle'\n",
    "            )    \n",
    "        ]),\n",
    "        direction = 'down',\n",
    "        pad = {'r': 10, 't': 10},\n",
    "        showactive = True,\n",
    "        x = 0.1,\n",
    "        xanchor = 'left',\n",
    "        y = 1.1,\n",
    "        yanchor = 'top' \n",
    "    ),\n",
    "])\n",
    "\n",
    "#annotations = list([\n",
    "#    dict(text='Run:', x=0, y=1.085, yref='paper', align='left', showarrow=False)\n",
    "#])\n",
    "\n",
    "layout['updatemenus'] = updatemenus\n",
    "#layout['annotations'] = annotations\n",
    "\n",
    "fig = {\n",
    "    'data': data,\n",
    "    'layout': layout\n",
    "    }"
   ]
  },
  {
   "cell_type": "code",
   "execution_count": null,
   "metadata": {},
   "outputs": [],
   "source": [
    "py.plot(fig)"
   ]
  },
  {
   "cell_type": "code",
   "execution_count": 38,
   "metadata": {},
   "outputs": [],
   "source": [
    "def create_visible_list(n):\n",
    "    '''n is number of runs'''\n",
    "    false_list = [False for i in np.arange(n)]\n",
    "    true_i_list = [False for i in np.arange(n)]\n",
    "    true_i_list[0] = True\n",
    "    visible_list = []\n",
    "\n",
    "    for i in np.arange(len(data)):\n",
    "        visible_list.append(true_i_list[-i:] + true_i_list[:-i])\n",
    "\n",
    "    visible_list.insert(0,[True for i in np.arange(n)])\n",
    "    return visible_list"
   ]
  },
  {
   "cell_type": "code",
   "execution_count": 39,
   "metadata": {},
   "outputs": [],
   "source": [
    "visible_list = create_visible_list(len(data))\n",
    "buttons = [dict(args=['visible', visible_list[i]], label=str(i), method='restyle') for i in np.arange(len(data)+1)]"
   ]
  },
  {
   "cell_type": "code",
   "execution_count": 40,
   "metadata": {},
   "outputs": [
    {
     "data": {
      "text/plain": [
       "'https://plot.ly/~paulsavala/36'"
      ]
     },
     "execution_count": 40,
     "metadata": {},
     "output_type": "execute_result"
    }
   ],
   "source": [
    "updatemenus=list([\n",
    "    dict(\n",
    "        buttons=buttons,\n",
    "        direction = 'down',\n",
    "        pad = {'r': 10, 't': 10},\n",
    "        showactive = True,\n",
    "        x = 0.1,\n",
    "        xanchor = 'left',\n",
    "        y = 1.1,\n",
    "        yanchor = 'top' \n",
    "    ),\n",
    "])\n",
    "\n",
    "#annotations = list([\n",
    "#    dict(text='Run:', x=0, y=1.085, yref='paper', align='left', showarrow=False)\n",
    "#])\n",
    "\n",
    "layout['updatemenus'] = updatemenus\n",
    "#layout['annotations'] = annotations\n",
    "\n",
    "fig = {\n",
    "    'data': data,\n",
    "    'layout': layout\n",
    "    }\n",
    "\n",
    "py.plot(fig)"
   ]
  },
  {
   "cell_type": "code",
   "execution_count": null,
   "metadata": {},
   "outputs": [],
   "source": []
  }
 ],
 "metadata": {
  "kernelspec": {
   "display_name": "Python [default]",
   "language": "python",
   "name": "python3"
  },
  "language_info": {
   "codemirror_mode": {
    "name": "ipython",
    "version": 3
   },
   "file_extension": ".py",
   "mimetype": "text/x-python",
   "name": "python",
   "nbconvert_exporter": "python",
   "pygments_lexer": "ipython3",
   "version": "3.5.3"
  }
 },
 "nbformat": 4,
 "nbformat_minor": 2
}
