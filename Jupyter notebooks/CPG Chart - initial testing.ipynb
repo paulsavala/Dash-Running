{
 "cells": [
  {
   "cell_type": "markdown",
   "metadata": {},
   "source": [
    "The purpose of this notebook is to create a critical pace + gradient (CPG) chart. That is, it will look at a (single) run, find the maximum speed at various gradients and time intervals, and plot it. I am treating the csv file as if it has 1-second recording turned on (even if it doesn't)."
   ]
  },
  {
   "cell_type": "code",
   "execution_count": 1,
   "metadata": {},
   "outputs": [],
   "source": [
    "import pandas as pd\n",
    "import numpy as np\n",
    "import os"
   ]
  },
  {
   "cell_type": "code",
   "execution_count": 82,
   "metadata": {},
   "outputs": [
    {
     "data": {
      "text/html": [
       "<div>\n",
       "<style>\n",
       "    .dataframe thead tr:only-child th {\n",
       "        text-align: right;\n",
       "    }\n",
       "\n",
       "    .dataframe thead th {\n",
       "        text-align: left;\n",
       "    }\n",
       "\n",
       "    .dataframe tbody tr th {\n",
       "        vertical-align: top;\n",
       "    }\n",
       "</style>\n",
       "<table border=\"1\" class=\"dataframe\">\n",
       "  <thead>\n",
       "    <tr style=\"text-align: right;\">\n",
       "      <th></th>\n",
       "      <th>Elevation</th>\n",
       "      <th>Timestamp</th>\n",
       "      <th>sec_elapsed</th>\n",
       "      <th>lat_lon</th>\n",
       "      <th>dist_delta_meters</th>\n",
       "      <th>elev_delta_meters</th>\n",
       "      <th>time_delta_sec</th>\n",
       "      <th>inst_speed_meters_sec</th>\n",
       "      <th>gradient</th>\n",
       "    </tr>\n",
       "  </thead>\n",
       "  <tbody>\n",
       "    <tr>\n",
       "      <th>0</th>\n",
       "      <td>71.0</td>\n",
       "      <td>2018-01-24 02:25:11</td>\n",
       "      <td>0.0</td>\n",
       "      <td>(33.739077999999999, -117.764537)</td>\n",
       "      <td>0.000000</td>\n",
       "      <td>0.0</td>\n",
       "      <td>0.0</td>\n",
       "      <td>0.000000</td>\n",
       "      <td>0.000000</td>\n",
       "    </tr>\n",
       "    <tr>\n",
       "      <th>1</th>\n",
       "      <td>71.0</td>\n",
       "      <td>2018-01-24 02:25:12</td>\n",
       "      <td>1.0</td>\n",
       "      <td>(33.739069999999998, -117.76453600000001)</td>\n",
       "      <td>0.892167</td>\n",
       "      <td>0.0</td>\n",
       "      <td>1.0</td>\n",
       "      <td>0.892167</td>\n",
       "      <td>0.000000</td>\n",
       "    </tr>\n",
       "    <tr>\n",
       "      <th>2</th>\n",
       "      <td>71.0</td>\n",
       "      <td>2018-01-24 02:25:21</td>\n",
       "      <td>10.0</td>\n",
       "      <td>(33.738911999999999, -117.76442400000001)</td>\n",
       "      <td>20.367657</td>\n",
       "      <td>0.0</td>\n",
       "      <td>9.0</td>\n",
       "      <td>2.263073</td>\n",
       "      <td>0.000000</td>\n",
       "    </tr>\n",
       "    <tr>\n",
       "      <th>3</th>\n",
       "      <td>71.0</td>\n",
       "      <td>2018-01-24 02:25:23</td>\n",
       "      <td>12.0</td>\n",
       "      <td>(33.738874000000003, -117.764402)</td>\n",
       "      <td>4.682013</td>\n",
       "      <td>0.0</td>\n",
       "      <td>2.0</td>\n",
       "      <td>2.341006</td>\n",
       "      <td>0.000000</td>\n",
       "    </tr>\n",
       "    <tr>\n",
       "      <th>4</th>\n",
       "      <td>71.0</td>\n",
       "      <td>2018-01-24 02:25:27</td>\n",
       "      <td>16.0</td>\n",
       "      <td>(33.738781000000003, -117.764371)</td>\n",
       "      <td>10.707868</td>\n",
       "      <td>0.0</td>\n",
       "      <td>4.0</td>\n",
       "      <td>2.676967</td>\n",
       "      <td>0.000000</td>\n",
       "    </tr>\n",
       "    <tr>\n",
       "      <th>5</th>\n",
       "      <td>71.0</td>\n",
       "      <td>2018-01-24 02:25:28</td>\n",
       "      <td>17.0</td>\n",
       "      <td>(33.738757999999997, -117.76436200000001)</td>\n",
       "      <td>2.683970</td>\n",
       "      <td>0.0</td>\n",
       "      <td>1.0</td>\n",
       "      <td>2.683970</td>\n",
       "      <td>0.000000</td>\n",
       "    </tr>\n",
       "    <tr>\n",
       "      <th>6</th>\n",
       "      <td>71.0</td>\n",
       "      <td>2018-01-24 02:25:29</td>\n",
       "      <td>18.0</td>\n",
       "      <td>(33.738734000000001, -117.764352)</td>\n",
       "      <td>2.818701</td>\n",
       "      <td>0.0</td>\n",
       "      <td>1.0</td>\n",
       "      <td>2.818701</td>\n",
       "      <td>0.000000</td>\n",
       "    </tr>\n",
       "    <tr>\n",
       "      <th>7</th>\n",
       "      <td>71.0</td>\n",
       "      <td>2018-01-24 02:25:30</td>\n",
       "      <td>19.0</td>\n",
       "      <td>(33.738711000000002, -117.76434399999999)</td>\n",
       "      <td>2.656636</td>\n",
       "      <td>0.0</td>\n",
       "      <td>1.0</td>\n",
       "      <td>2.656636</td>\n",
       "      <td>0.000000</td>\n",
       "    </tr>\n",
       "    <tr>\n",
       "      <th>8</th>\n",
       "      <td>70.7</td>\n",
       "      <td>2018-01-24 02:25:39</td>\n",
       "      <td>28.0</td>\n",
       "      <td>(33.738526999999998, -117.764252)</td>\n",
       "      <td>22.117910</td>\n",
       "      <td>-0.3</td>\n",
       "      <td>9.0</td>\n",
       "      <td>2.457546</td>\n",
       "      <td>-0.013564</td>\n",
       "    </tr>\n",
       "    <tr>\n",
       "      <th>9</th>\n",
       "      <td>70.3</td>\n",
       "      <td>2018-01-24 02:25:46</td>\n",
       "      <td>35.0</td>\n",
       "      <td>(33.738399999999999, -117.764191)</td>\n",
       "      <td>15.178380</td>\n",
       "      <td>-0.4</td>\n",
       "      <td>7.0</td>\n",
       "      <td>2.168340</td>\n",
       "      <td>-0.026353</td>\n",
       "    </tr>\n",
       "  </tbody>\n",
       "</table>\n",
       "</div>"
      ],
      "text/plain": [
       "   Elevation            Timestamp  sec_elapsed  \\\n",
       "0       71.0  2018-01-24 02:25:11          0.0   \n",
       "1       71.0  2018-01-24 02:25:12          1.0   \n",
       "2       71.0  2018-01-24 02:25:21         10.0   \n",
       "3       71.0  2018-01-24 02:25:23         12.0   \n",
       "4       71.0  2018-01-24 02:25:27         16.0   \n",
       "5       71.0  2018-01-24 02:25:28         17.0   \n",
       "6       71.0  2018-01-24 02:25:29         18.0   \n",
       "7       71.0  2018-01-24 02:25:30         19.0   \n",
       "8       70.7  2018-01-24 02:25:39         28.0   \n",
       "9       70.3  2018-01-24 02:25:46         35.0   \n",
       "\n",
       "                                     lat_lon  dist_delta_meters  \\\n",
       "0          (33.739077999999999, -117.764537)           0.000000   \n",
       "1  (33.739069999999998, -117.76453600000001)           0.892167   \n",
       "2  (33.738911999999999, -117.76442400000001)          20.367657   \n",
       "3          (33.738874000000003, -117.764402)           4.682013   \n",
       "4          (33.738781000000003, -117.764371)          10.707868   \n",
       "5  (33.738757999999997, -117.76436200000001)           2.683970   \n",
       "6          (33.738734000000001, -117.764352)           2.818701   \n",
       "7  (33.738711000000002, -117.76434399999999)           2.656636   \n",
       "8          (33.738526999999998, -117.764252)          22.117910   \n",
       "9          (33.738399999999999, -117.764191)          15.178380   \n",
       "\n",
       "   elev_delta_meters  time_delta_sec  inst_speed_meters_sec  gradient  \n",
       "0                0.0             0.0               0.000000  0.000000  \n",
       "1                0.0             1.0               0.892167  0.000000  \n",
       "2                0.0             9.0               2.263073  0.000000  \n",
       "3                0.0             2.0               2.341006  0.000000  \n",
       "4                0.0             4.0               2.676967  0.000000  \n",
       "5                0.0             1.0               2.683970  0.000000  \n",
       "6                0.0             1.0               2.818701  0.000000  \n",
       "7                0.0             1.0               2.656636  0.000000  \n",
       "8               -0.3             9.0               2.457546 -0.013564  \n",
       "9               -0.4             7.0               2.168340 -0.026353  "
      ]
     },
     "execution_count": 82,
     "metadata": {},
     "output_type": "execute_result"
    }
   ],
   "source": [
    "INDIR = r'data/csv/'\n",
    "\n",
    "files = os.listdir(INDIR)\n",
    "\n",
    "test_file = next(file for file in files if file.endswith(\".csv\")) \n",
    "\n",
    "df = pd.read_csv(INDIR + test_file)\n",
    "df.head(10)"
   ]
  },
  {
   "cell_type": "code",
   "execution_count": 83,
   "metadata": {},
   "outputs": [
    {
     "data": {
      "text/plain": [
       "count    282.000000\n",
       "mean           -inf\n",
       "std             NaN\n",
       "min            -inf\n",
       "25%       -0.019546\n",
       "50%        0.000000\n",
       "75%        0.022055\n",
       "max        0.148826\n",
       "Name: gradient, dtype: float64"
      ]
     },
     "execution_count": 83,
     "metadata": {},
     "output_type": "execute_result"
    }
   ],
   "source": [
    "df['gradient'].describe()"
   ]
  },
  {
   "cell_type": "markdown",
   "metadata": {},
   "source": [
    "We can see that there is a -np.inf value in the gradient. We'll replace it with 0."
   ]
  },
  {
   "cell_type": "code",
   "execution_count": 85,
   "metadata": {},
   "outputs": [
    {
     "name": "stderr",
     "output_type": "stream",
     "text": [
      "/Users/paulsavala/anaconda/lib/python3.5/site-packages/pandas/core/indexing.py:179: SettingWithCopyWarning:\n",
      "\n",
      "\n",
      "A value is trying to be set on a copy of a slice from a DataFrame\n",
      "\n",
      "See the caveats in the documentation: http://pandas.pydata.org/pandas-docs/stable/indexing.html#indexing-view-versus-copy\n",
      "\n"
     ]
    }
   ],
   "source": [
    "df['gradient'].iloc[154] = 0.0"
   ]
  },
  {
   "cell_type": "code",
   "execution_count": 86,
   "metadata": {},
   "outputs": [
    {
     "data": {
      "text/plain": [
       "count    282.000000\n",
       "mean       0.000149\n",
       "std        0.031571\n",
       "min       -0.126480\n",
       "25%       -0.019436\n",
       "50%        0.000000\n",
       "75%        0.022055\n",
       "max        0.148826\n",
       "Name: gradient, dtype: float64"
      ]
     },
     "execution_count": 86,
     "metadata": {},
     "output_type": "execute_result"
    }
   ],
   "source": [
    "df['gradient'].describe()"
   ]
  },
  {
   "cell_type": "markdown",
   "metadata": {},
   "source": [
    "Now that everything looks good with the gradient, we'll create a column where the gradient lies between $\\pm 90$, which makes rounding simpler."
   ]
  },
  {
   "cell_type": "code",
   "execution_count": 101,
   "metadata": {},
   "outputs": [],
   "source": [
    "df['gradient_100'] = 100*df['gradient']"
   ]
  },
  {
   "cell_type": "markdown",
   "metadata": {},
   "source": [
    "Now for a quick-and-dirty analysis, we can see the fastest pace for time intervals from 1 to 60 seconds."
   ]
  },
  {
   "cell_type": "code",
   "execution_count": 9,
   "metadata": {},
   "outputs": [],
   "source": [
    "best_pace = [max(df['inst_speed_meters_sec'].rolling(window=n).mean().fillna(0)) for n in np.arange(1,61)]"
   ]
  },
  {
   "cell_type": "code",
   "execution_count": 145,
   "metadata": {},
   "outputs": [],
   "source": [
    "from matplotlib import pyplot as plt\n",
    "\n",
    "%matplotlib inline"
   ]
  },
  {
   "cell_type": "code",
   "execution_count": 11,
   "metadata": {},
   "outputs": [
    {
     "data": {
      "text/plain": [
       "[<matplotlib.lines.Line2D at 0x115d63978>]"
      ]
     },
     "execution_count": 11,
     "metadata": {},
     "output_type": "execute_result"
    },
    {
     "data": {
      "image/png": "[encoded data removed]",
      "text/plain": [
       "<matplotlib.figure.Figure at 0x111c94c50>"
      ]
     },
     "metadata": {},
     "output_type": "display_data"
    }
   ],
   "source": [
    "plt.plot(best_pace)"
   ]
  },
  {
   "cell_type": "markdown",
   "metadata": {},
   "source": [
    "Next, we want to do this same thing, but for any gradient that we choose. The strategy will be to do rolling windows for the time requested, then calculate the gradients. This gives a vector with gradient and max speed. This can then be written into a numpy matrix with rows being gradient, and columns being time.\n",
    "\n",
    "We'll start with a little test."
   ]
  },
  {
   "cell_type": "code",
   "execution_count": 108,
   "metadata": {},
   "outputs": [
    {
     "name": "stdout",
     "output_type": "stream",
     "text": [
      "-6.0 1.58690359006\n",
      "-5.0 3.053217006\n",
      "-4.0 3.10006969034\n",
      "-3.0 3.75776998661\n",
      "-2.0 3.20399990063\n",
      "-1.0 3.27203974374\n",
      "0.0 3.53753484996\n",
      "1.0 3.17362308641\n",
      "2.0 3.16931194627\n",
      "3.0 2.99704279985\n",
      "4.0 2.81628297596\n",
      "5.0 2.64074250499\n"
     ]
    }
   ],
   "source": [
    "# time interval of 5 seconds chosen arbitrarily\n",
    "rolling_5_df = df[['inst_speed_meters_sec', 'gradient_100']].rolling(window=5).mean().fillna(0)\n",
    "rolling_5_df['rounded_gradient_100'] = rolling_5_df['gradient_100'].apply(np.round)\n",
    "\n",
    "for name, group in rolling_5_df.groupby('rounded_gradient_100'):\n",
    "    print(name, max(group['inst_speed_meters_sec']))\n",
    "    \n",
    "rolling_5_grouped = rolling_5_df.groupby('rounded_gradient_100')"
   ]
  },
  {
   "cell_type": "markdown",
   "metadata": {},
   "source": [
    "Now let's make this into a proper function."
   ]
  },
  {
   "cell_type": "code",
   "execution_count": 8,
   "metadata": {},
   "outputs": [],
   "source": [
    "# Note that this function accesses the dataframe df, so that must be defined ahead of time. Obviously this should \n",
    "# be fixed in the future.\n",
    "def max_speed_t_g(t,g):\n",
    "    rolling_df = df[['inst_speed_meters_sec', 'gradient_100']].rolling(window=t).mean().fillna(0)\n",
    "    rolling_df['rounded_gradient_100'] = rolling_df['gradient_100'].apply(np.round)\n",
    "    rolling_groupby = rolling_df.groupby('rounded_gradient_100')\n",
    "    \n",
    "    try:\n",
    "        group_g = rolling_groupby.get_group(g)\n",
    "        max_speed = max(group_g['inst_speed_meters_sec'])\n",
    "    except KeyError:\n",
    "        max_speed = 0\n",
    "    return max_speed\n",
    "\n",
    "max_speed_t_g_vec = np.vectorize(max_speed_t_g, otypes=[np.float64])"
   ]
  },
  {
   "cell_type": "markdown",
   "metadata": {},
   "source": [
    "The most efficient way (I know of) to plot this is to do everything in numpy so that it's vectorized. We'll create a meshgrid with the time and gradients, and then apply our max_speed_t_g_vec (vectorized version) to it. This can then be directly plotted in Plotly."
   ]
  },
  {
   "cell_type": "code",
   "execution_count": 142,
   "metadata": {},
   "outputs": [],
   "source": [
    "t = np.arange(0, 300, 1)\n",
    "g = np.arange(-10, 10, 1)\n",
    "TT, GG = np.meshgrid(t, g)\n",
    "ZZ = max_speed_t_g_vec(TT, GG)"
   ]
  },
  {
   "cell_type": "code",
   "execution_count": 143,
   "metadata": {},
   "outputs": [
    {
     "data": {
      "text/html": [
       "<iframe id=\"igraph\" scrolling=\"no\" style=\"border:none;\" seamless=\"seamless\" src=\"https://plot.ly/~paulsavala/72.embed\" height=\"525px\" width=\"100%\"></iframe>"
      ],
      "text/plain": [
       "<plotly.tools.PlotlyDisplay object>"
      ]
     },
     "execution_count": 143,
     "metadata": {},
     "output_type": "execute_result"
    }
   ],
   "source": [
    "import plotly.plotly as py\n",
    "import plotly.graph_objs as go\n",
    "\n",
    "data = [\n",
    "    go.Surface(x=GG, y=TT, z=ZZ)\n",
    "]\n",
    "\n",
    "layout = go.Layout(\n",
    "    title='Max speed',\n",
    "    xaxis=dict(\n",
    "        title='Gradient'\n",
    "    ),\n",
    "    yaxis=dict(\n",
    "        title='Time interval (s)'\n",
    "    )\n",
    ")\n",
    "\n",
    "fig = go.Figure(data=data, layout=layout)\n",
    "py.iplot(fig)"
   ]
  },
  {
   "cell_type": "markdown",
   "metadata": {},
   "source": [
    "Next, let's create functions which plot \"slices\" for different time or gradients."
   ]
  },
  {
   "cell_type": "code",
   "execution_count": 150,
   "metadata": {},
   "outputs": [],
   "source": [
    "t = np.arange(10,11) # Just the number 10\n",
    "g = np.arange(-10, 10, 1)\n",
    "TT, GG = np.meshgrid(t, g)\n",
    "\n",
    "max_speed_10sec = max_speed_t_g_vec(TT,GG)"
   ]
  },
  {
   "cell_type": "code",
   "execution_count": 153,
   "metadata": {},
   "outputs": [
    {
     "ename": "TypeError",
     "evalue": "iplot() missing 1 required positional argument: 'figure_or_data'",
     "output_type": "error",
     "traceback": [
      "\u001b[0;31m---------------------------------------------------------------------------\u001b[0m",
      "\u001b[0;31mTypeError\u001b[0m                                 Traceback (most recent call last)",
      "\u001b[0;32m<ipython-input-153-0cc16f1eecac>\u001b[0m in \u001b[0;36m<module>\u001b[0;34m()\u001b[0m\n\u001b[1;32m      1\u001b[0m \u001b[0mbest_10sec\u001b[0m \u001b[0;34m=\u001b[0m \u001b[0mgo\u001b[0m\u001b[0;34m.\u001b[0m\u001b[0mScatter\u001b[0m\u001b[0;34m(\u001b[0m\u001b[0mx\u001b[0m\u001b[0;34m=\u001b[0m\u001b[0mg\u001b[0m\u001b[0;34m,\u001b[0m\u001b[0my\u001b[0m\u001b[0;34m=\u001b[0m\u001b[0mmax_speed_10sec\u001b[0m\u001b[0;34m)\u001b[0m\u001b[0;34m\u001b[0m\u001b[0m\n\u001b[1;32m      2\u001b[0m \u001b[0mdata\u001b[0m \u001b[0;34m=\u001b[0m \u001b[0;34m[\u001b[0m\u001b[0mbest_10sec\u001b[0m\u001b[0;34m]\u001b[0m\u001b[0;34m\u001b[0m\u001b[0m\n\u001b[0;32m----> 3\u001b[0;31m \u001b[0mpy\u001b[0m\u001b[0;34m.\u001b[0m\u001b[0miplot\u001b[0m\u001b[0;34m(\u001b[0m\u001b[0mdata\u001b[0m\u001b[0;34m=\u001b[0m\u001b[0mdata\u001b[0m\u001b[0;34m)\u001b[0m\u001b[0;34m\u001b[0m\u001b[0m\n\u001b[0m",
      "\u001b[0;31mTypeError\u001b[0m: iplot() missing 1 required positional argument: 'figure_or_data'"
     ]
    }
   ],
   "source": [
    "best_10sec = go.Scatter(x=g,y=max_speed_10sec)\n",
    "data = [best_10sec]\n",
    "py.iplot(data=data)"
   ]
  },
  {
   "cell_type": "markdown",
   "metadata": {},
   "source": [
    "TESTING"
   ]
  },
  {
   "cell_type": "code",
   "execution_count": 3,
   "metadata": {},
   "outputs": [],
   "source": [
    "ar1 = np.array([1,2,3])\n",
    "ar2 = np.array([0,4,3])"
   ]
  },
  {
   "cell_type": "code",
   "execution_count": 5,
   "metadata": {},
   "outputs": [
    {
     "data": {
      "text/plain": [
       "array([1, 4, 3])"
      ]
     },
     "execution_count": 5,
     "metadata": {},
     "output_type": "execute_result"
    }
   ],
   "source": [
    "np.maximum(ar1,ar2)"
   ]
  },
  {
   "cell_type": "code",
   "execution_count": null,
   "metadata": {},
   "outputs": [],
   "source": []
  }
 ],
 "metadata": {
  "kernelspec": {
   "display_name": "Python [default]",
   "language": "python",
   "name": "python3"
  },
  "language_info": {
   "codemirror_mode": {
    "name": "ipython",
    "version": 3
   },
   "file_extension": ".py",
   "mimetype": "text/x-python",
   "name": "python",
   "nbconvert_exporter": "python",
   "pygments_lexer": "ipython3",
   "version": "3.5.3"
  }
 },
 "nbformat": 4,
 "nbformat_minor": 2
}
